{
 "cells": [
  {
   "cell_type": "code",
   "execution_count": 13,
   "metadata": {},
   "outputs": [],
   "source": [
    "from IPython.display import IFrame"
   ]
  },
  {
   "cell_type": "markdown",
   "metadata": {},
   "source": [
    "# OOP with Python\n",
    "\n",
    "## ★용어 정리★\n",
    "\n",
    "```python\n",
    "class Person:                      #=> 클래스 정의(선언) : 클래스 객체 생성\n",
    "    name = '홍길동'                  #=> 멤버 변수(데이터 어트리뷰트)\n",
    "    def greeting(self):            #=> 멤버 메서드(메서드)\n",
    "        print(f'{self.name}')\n",
    "```\n",
    "    \n",
    "    \n",
    "```python\n",
    "iu = Person()       # 인스턴스 객체 생성\n",
    "daniel = Person()   # 인스턴스 객체 생성\n",
    "iu.name             # 데이터 어트리뷰트 호출\n",
    "iu.greeting()       # 메서드 호출\n",
    "```"
   ]
  },
  {
   "cell_type": "code",
   "execution_count": 5,
   "metadata": {},
   "outputs": [
    {
     "name": "stdout",
     "output_type": "stream",
     "text": [
      "ssafy kim\n",
      "Hi! kim gildong\n",
      "kim gildong\n"
     ]
    }
   ],
   "source": [
    "# Person을 만들어봅시다.\n",
    "class Person:\n",
    "    name = 'ssafy kim'\n",
    "    def greeting(self):\n",
    "        return f'Hi! {self.name}'\n",
    "\n",
    "p = Person()\n",
    "\n",
    "print(p.name)\n",
    "p.name = 'kim gildong'\n",
    "print(p.greeting())   \n",
    "print(p.name)"
   ]
  },
  {
   "cell_type": "markdown",
   "metadata": {},
   "source": [
    "* 클래스와 인스턴스간의 관계를 확인해봅시다."
   ]
  },
  {
   "cell_type": "code",
   "execution_count": 6,
   "metadata": {},
   "outputs": [
    {
     "data": {
      "text/plain": [
       "True"
      ]
     },
     "execution_count": 6,
     "metadata": {},
     "output_type": "execute_result"
    }
   ],
   "source": [
    "isinstance(p,Person) # p 는 Person 이야? True\n",
    "isinstance(1,int) # 1은 int야? True"
   ]
  },
  {
   "cell_type": "markdown",
   "metadata": {},
   "source": [
    "##  `self` : 인스턴스 객체 자기자신\n",
    "\n",
    "* C++ 혹은 자바에서의 this 키워드와 동일함. \n",
    "\n",
    "* 특별한 상황을 제외하고는 무조건 메서드에서 `self`를 첫번째 인자로 설정한다.\n",
    "\n",
    "* 메서드는 인스턴스 객체가 함수의 첫번째 인자로 전달되도록 되어있다."
   ]
  },
  {
   "cell_type": "code",
   "execution_count": 7,
   "metadata": {},
   "outputs": [
    {
     "name": "stdout",
     "output_type": "stream",
     "text": [
      "hikim gildong\n"
     ]
    }
   ],
   "source": [
    "# p를 다시 인사시켜봅시다.\n",
    "p.name = 'kim gildong'\n",
    "print(p.greeting())    # p가 인사를 합니다"
   ]
  },
  {
   "cell_type": "code",
   "execution_count": 8,
   "metadata": {},
   "outputs": [
    {
     "data": {
      "text/plain": [
       "'hikim gildong'"
      ]
     },
     "execution_count": 8,
     "metadata": {},
     "output_type": "execute_result"
    }
   ],
   "source": [
    "# 다르게 인사를 시킬 수도 있습니다.\n",
    "Person.greeting(p) # 사람 중 p가 인사를 합니다 #위의 셀과 똑같은 말이다"
   ]
  },
  {
   "cell_type": "markdown",
   "metadata": {},
   "source": [
    "* 클래스 선언부 내부에서도 반드시 self를 통해 데이터 어트리뷰트에 접근 해야 합니다."
   ]
  },
  {
   "cell_type": "code",
   "execution_count": 7,
   "metadata": {},
   "outputs": [],
   "source": [
    "# 예시를 봅시다.\n",
    "name = '?'\n",
    "\n",
    "class Person:\n",
    "    name = '아이돌'\n",
    "    \n",
    "    def greeting(self):\n",
    "        print (f'hi, my name is {self.name}')"
   ]
  },
  {
   "cell_type": "code",
   "execution_count": 8,
   "metadata": {},
   "outputs": [
    {
     "name": "stdout",
     "output_type": "stream",
     "text": [
      "아이돌\n",
      "hi, my name is 아이돌\n"
     ]
    }
   ],
   "source": [
    "p1 = Person()\n",
    "print(p1.name)\n",
    "p1.greeting()"
   ]
  },
  {
   "cell_type": "code",
   "execution_count": 9,
   "metadata": {},
   "outputs": [],
   "source": [
    "# 위의 예시에서 self.name 을 name으로 변경했더니 ?로 나온다\n",
    "name = '?'\n",
    "\n",
    "class Person:\n",
    "    name = '아기'\n",
    "    \n",
    "    def greeting(self):\n",
    "        print (f'hi, my name is {name}')"
   ]
  },
  {
   "cell_type": "code",
   "execution_count": 10,
   "metadata": {},
   "outputs": [
    {
     "name": "stdout",
     "output_type": "stream",
     "text": [
      "아기\n",
      "hi, my name is ?\n"
     ]
    }
   ],
   "source": [
    "p1 = Person()\n",
    "print(p1.name)\n",
    "p1.greeting()"
   ]
  },
  {
   "cell_type": "markdown",
   "metadata": {},
   "source": [
    "## 클래스-인스턴스간의 이름공간\n",
    "\n",
    "* 클래스를 정의하면, 클래스 객체가 생성되고 해당되는 이름 공간이 생성된다. \n",
    "\n",
    "* 인스턴스를 만들게 되면, 인스턴스 객체가 생성되고 해당되는 이름 공간이 생성된다. \n",
    "\n",
    "* 인스턴스의 어트리뷰트가 변경되면, 변경된 데이터를 인스턴스 객체 이름 공간에 저장한다.\n",
    "\n",
    "* 즉, 인스턴스에서 특정한 어트리뷰트에 접근하게 되면 인스턴스 -> 클래스 순으로 탐색을 한다."
   ]
  },
  {
   "cell_type": "code",
   "execution_count": 11,
   "metadata": {},
   "outputs": [
    {
     "name": "stdout",
     "output_type": "stream",
     "text": [
      "john\n"
     ]
    }
   ],
   "source": [
    "# john에게 이름을 지정해줍시다.\n",
    "p1.name = 'john'\n",
    "print(p1.name)"
   ]
  },
  {
   "cell_type": "code",
   "execution_count": 14,
   "metadata": {},
   "outputs": [
    {
     "data": {
      "text/html": [
       "\n",
       "        <iframe\n",
       "            width=\"100%\"\n",
       "            height=\"300px\"\n",
       "            src=\"https://goo.gl/ZgNaXB\"\n",
       "            frameborder=\"0\"\n",
       "            allowfullscreen\n",
       "        ></iframe>\n",
       "        "
      ],
      "text/plain": [
       "<IPython.lib.display.IFrame at 0x255839a1f60>"
      ]
     },
     "execution_count": 14,
     "metadata": {},
     "output_type": "execute_result"
    }
   ],
   "source": [
    "# 아래의 Python Tutor를 통해 순차적으로 확인해봅시다.\n",
    "IFrame('https://goo.gl/ZgNaXB', width='100%', height='300px')"
   ]
  },
  {
   "cell_type": "markdown",
   "metadata": {},
   "source": [
    "## 생성자 / 소멸자\n",
    "\n",
    "* 생성자는 인스턴스 객체가 생성될 때 호출되는 함수이며, 소멸자는 객체가 소멸되는 과정에서 호출되는 함수입니다.\n",
    "\n",
    "```python\n",
    "def __init__(self):\n",
    "    print('생성될 때 자동으로 호출되는 메서드입니다.')\n",
    "    \n",
    "def __del__(self):\n",
    "    print('소멸될 때 자동으로 호출되는 메서드입니다.')\n",
    "```\n",
    "\n",
    "```\n",
    "__someting__\n",
    "```\n",
    "\n",
    "위의 형식처럼 양쪽에 언더스코어가 있는 메서드를 스페셜 메서드 혹은 매직 메서드라고 불립니다."
   ]
  },
  {
   "cell_type": "code",
   "execution_count": 15,
   "metadata": {},
   "outputs": [],
   "source": [
    "# 생성자와 소멸자를 만들어봅시다.\n",
    "# 생성자는 만들어 질 때 태어남!이라고 외치고 소멸자는 죽을 때 죽음! 이라고 외친다.\n",
    "# 이건 우리가 직접 정의 하는 것\n",
    "\n",
    "class Person:\n",
    "    def __init__(self):\n",
    "        print('응애!')\n",
    "    def __del__(self):\n",
    "        print('빠잉!')"
   ]
  },
  {
   "cell_type": "code",
   "execution_count": 23,
   "metadata": {},
   "outputs": [
    {
     "name": "stdout",
     "output_type": "stream",
     "text": [
      "응애!\n"
     ]
    }
   ],
   "source": [
    "#  생성시켜봅시다.\n",
    "p1 = Person()"
   ]
  },
  {
   "cell_type": "code",
   "execution_count": 20,
   "metadata": {},
   "outputs": [
    {
     "name": "stdout",
     "output_type": "stream",
     "text": [
      "빠잉!\n"
     ]
    }
   ],
   "source": [
    "# 소멸시켜봅시다.\n",
    "del p1"
   ]
  },
  {
   "cell_type": "code",
   "execution_count": 24,
   "metadata": {},
   "outputs": [
    {
     "name": "stdout",
     "output_type": "stream",
     "text": [
      "빠잉!\n"
     ]
    }
   ],
   "source": [
    "# 소멸시켜봅시다. 두번쨰 방법\n",
    "# 누군가 가르쳐줬기 때문에 태어났는데 p1이 1로 손가락 방향을 바꾸니까 처음 태어난 p1은 죽은거\n",
    "p1 = 1"
   ]
  },
  {
   "cell_type": "markdown",
   "metadata": {},
   "source": [
    "* 생성자 역시 메소드이기 때문에 추가적인 인자를 받을 수 있습니다."
   ]
  },
  {
   "cell_type": "code",
   "execution_count": 2,
   "metadata": {},
   "outputs": [],
   "source": [
    "# 생성자에서 이름을 추가적으로 받아서 출력해봅시다.\n",
    "\n",
    "class Person:\n",
    "    def __init__(self, name):\n",
    "        print('응애!')\n",
    "        self.name = name\n",
    "    def __del__(self):\n",
    "        print('빠잉!')"
   ]
  },
  {
   "cell_type": "code",
   "execution_count": 3,
   "metadata": {},
   "outputs": [
    {
     "name": "stdout",
     "output_type": "stream",
     "text": [
      "응애!\n",
      "홍길동1\n",
      "응애!\n",
      "빠잉!\n",
      "홍길동2\n"
     ]
    }
   ],
   "source": [
    "# 홍길동이라는 이름을 가진 hong 을 만들어봅시다.\n",
    "hong = Person('홍길동1')\n",
    "print(hong.name)\n",
    "hong = Person('홍길동2')\n",
    "print(hong.name)\n",
    "# 커널 날리고 위에거 실행하고 밑에거 실행하면 \n",
    "# 응애! 홍길동1 나오고 \n",
    "# 다시 실행하면 응애! 빠잉! 홍길동2 이라고 나타나는 이유는 \n",
    "# 두번째 홍길동2이 응애하고 태어나고 첫번째 홍길동1이 빠잉하고 죽고 두번째 홍길동 이름을 홍길동2이라고 알려준거"
   ]
  },
  {
   "cell_type": "markdown",
   "metadata": {},
   "source": [
    "* 아래와 같이 모두 사용할 수 있습니다!\n",
    "\n",
    "```python\n",
    "def __init__(self, parameter1, parameter2):\n",
    "    print('생성될 때 자동으로 호출되는 메서드입니다.')\n",
    "    print(parameter1)\n",
    "\n",
    "def __init__(self, *args):\n",
    "    print('생성될 때 자동으로 호출되는 메서드입니다.')\n",
    "\n",
    "def __init__(self, **kwagrs):\n",
    "    print('생성될 때 자동으로 호출되는 메서드입니다.')\n",
    "```"
   ]
  },
  {
   "cell_type": "markdown",
   "metadata": {},
   "source": [
    "* 따라서, 생성자는 값을 초기화하는 과정에서 자주 활용됩니다. \n",
    "\n",
    "* 아래의 클래스 변수와 인스턴스 변수를 통해 확인해보겠습니다."
   ]
  },
  {
   "cell_type": "markdown",
   "metadata": {},
   "source": [
    "## 클래스 변수 / 인스턴스 변수\n",
    "\n",
    "```python\n",
    "class Person:\n",
    "    population = 0              # 클래스 변수 : 모든 인스턴스가 공유함.\n",
    "    \n",
    "    def __init__(self, name):   \n",
    "        self.name = name        # 인스턴스 변수 : 인스턴스별로 각각 가지는 변수\n",
    "```        "
   ]
  },
  {
   "cell_type": "code",
   "execution_count": 1,
   "metadata": {},
   "outputs": [],
   "source": [
    "# 위의 생성자와 인사하는 메소드를 만들어봅시다. \n",
    "class Person:\n",
    "    population = 0\n",
    "    def __init__(self, name):\n",
    "        self.name = name\n",
    "        Person.population += 1"
   ]
  },
  {
   "cell_type": "code",
   "execution_count": 2,
   "metadata": {},
   "outputs": [],
   "source": [
    "# 본인의 이름을 가진 인스턴스를 만들어봅시다.\n",
    "p1 = Person('나다')"
   ]
  },
  {
   "cell_type": "code",
   "execution_count": 3,
   "metadata": {},
   "outputs": [
    {
     "data": {
      "text/plain": [
       "'나다'"
      ]
     },
     "execution_count": 3,
     "metadata": {},
     "output_type": "execute_result"
    }
   ],
   "source": [
    "# 이름을 출력해봅시다.\n",
    "p1.name"
   ]
  },
  {
   "cell_type": "code",
   "execution_count": 4,
   "metadata": {},
   "outputs": [],
   "source": [
    "# 옆자리 친구의 이름을 가진 인스턴스를 만들어봅시다.\n",
    "p2 = Person('너다')"
   ]
  },
  {
   "cell_type": "code",
   "execution_count": 5,
   "metadata": {},
   "outputs": [
    {
     "data": {
      "text/plain": [
       "'너다'"
      ]
     },
     "execution_count": 5,
     "metadata": {},
     "output_type": "execute_result"
    }
   ],
   "source": [
    "# 이름을 출력해봅시다.\n",
    "p2.name"
   ]
  },
  {
   "cell_type": "code",
   "execution_count": 8,
   "metadata": {},
   "outputs": [
    {
     "data": {
      "text/plain": [
       "2"
      ]
     },
     "execution_count": 8,
     "metadata": {},
     "output_type": "execute_result"
    }
   ],
   "source": [
    "# population을 출력해봅시다.\n",
    "Person.population"
   ]
  },
  {
   "cell_type": "code",
   "execution_count": 9,
   "metadata": {},
   "outputs": [
    {
     "data": {
      "text/plain": [
       "2"
      ]
     },
     "execution_count": 9,
     "metadata": {},
     "output_type": "execute_result"
    }
   ],
   "source": [
    "# 물론, 인스턴스도 접근 가능합니다. 왜일까요?!\n",
    "p1.population"
   ]
  },
  {
   "cell_type": "markdown",
   "metadata": {},
   "source": [
    "## 정적 메서드 / 클래스 메서드\n",
    "\n",
    "* 메서드 호출을 인스턴스가 아닌 클래스가 할 수 있도록 구성할 수 있습니다. \n",
    "\n",
    "* 이때 활용되는게 정적 메서드 ★혹은★ 클래스 메서드입니다.\n",
    "\n",
    "* 정적 메소드는 객체가 전달되지 않은 형태이며, 클래스 메서드는 인자로 클래스를 넘겨준다."
   ]
  },
  {
   "cell_type": "code",
   "execution_count": 22,
   "metadata": {
    "scrolled": true
   },
   "outputs": [
    {
     "name": "stdout",
     "output_type": "stream",
     "text": [
      "오늘의 인구는 1\n"
     ]
    }
   ],
   "source": [
    "# Person 클래스가 인사할 수 있는지 확인해보겠습니다.\n",
    "class Person:\n",
    "    population = 0 \n",
    "    def __init__(self, name):\n",
    "        self.name = name\n",
    "        Person.population += 1\n",
    "    def greeting(self):\n",
    "        print(f'Hi! I am {self.name}')\n",
    "    def show_population(): # 객체가 가능한 애들은 self가 들어가 있고 객체가 불가능한 애들은 self가 없다 self = 객체\n",
    "        print(f'오늘의 인구는 {Person.population}')\n",
    "        \n",
    "p = Person('ssafy')        \n",
    "Person.show_population()"
   ]
  },
  {
   "cell_type": "code",
   "execution_count": 23,
   "metadata": {},
   "outputs": [],
   "source": [
    "# 이번에는 Dog class를 만들어보겠습니다.\n",
    "# 클래스 변수 num_of_dogs 통해 개가 생성될 때마다 증가시키도록 하겠습니다. \n",
    "# 개들은 각자의 이름과 나이를 가지고 있습니다. \n",
    "# 그리고 bark() 메서드를 통해 짖을 수 있습니다. \n",
    "\n",
    "class Dog:\n",
    "    num_of_dogs = 0\n",
    "    def __init__(self, name, breed):\n",
    "        self.name = name\n",
    "        self.breed = breed\n",
    "        Dog.num_of_dogs += 1\n",
    "        \n",
    "    def __del__(self):\n",
    "        Dog.num_of_dogs -= 1\n",
    "    \n",
    "    def bark(self):\n",
    "        return '왈왈'"
   ]
  },
  {
   "cell_type": "code",
   "execution_count": 24,
   "metadata": {},
   "outputs": [
    {
     "data": {
      "text/plain": [
       "'왈왈'"
      ]
     },
     "execution_count": 24,
     "metadata": {},
     "output_type": "execute_result"
    }
   ],
   "source": [
    "# 각각 이름과 나이가 다른 인스턴스를 3개 만들어봅시다.\n",
    "d1 = Dog('초코', '푸들')\n",
    "d2 = Dog('조지', '시바')\n",
    "d3 = Dog('알프레도', '웰시코기')\n",
    "\n",
    "d1.bark()"
   ]
  },
  {
   "cell_type": "markdown",
   "metadata": {},
   "source": [
    "* staticmethod는 다음과 같이 정의됩니다.\n",
    "\n",
    "```python\n",
    "\n",
    "@staticmethod\n",
    "def methodname():\n",
    "    codeblock\n",
    "```"
   ]
  },
  {
   "cell_type": "code",
   "execution_count": 1,
   "metadata": {},
   "outputs": [],
   "source": [
    "# 단순한 static method를 만들어보겠습니다.\n",
    "class Dog:\n",
    "    num_of_dogs = 0\n",
    "    \n",
    "    def __init__(self, name, breed):\n",
    "        self.name = name\n",
    "        self.breed = breed\n",
    "        Dog.num_of_dogs += 1\n",
    "        ;\n",
    "        \n",
    "    def __del__(self):\n",
    "        Dog.num_of_dogs -= 1\n",
    "    \n",
    "    def bark(self):\n",
    "        return '왈왈'\n",
    "    @staticmethod\n",
    "    def info(): # 여기는 self 넣는거 아님!\n",
    "        return f'총 {Dog.num_of_dogs} 마리의 개가 있습니다!'"
   ]
  },
  {
   "cell_type": "code",
   "execution_count": 2,
   "metadata": {},
   "outputs": [],
   "source": [
    "# 3마리를 만들어보고,\n",
    "d1 = Dog('초코', '푸들')\n",
    "d2 = Dog('조지', '시바')\n",
    "d3 = Dog('알프레도', '웰시코기')"
   ]
  },
  {
   "cell_type": "code",
   "execution_count": 3,
   "metadata": {},
   "outputs": [
    {
     "data": {
      "text/plain": [
       "'총 3 마리의 개가 있습니다!'"
      ]
     },
     "execution_count": 3,
     "metadata": {},
     "output_type": "execute_result"
    }
   ],
   "source": [
    "# 함수를 호출해봅시다.\n",
    "Dog.info()"
   ]
  },
  {
   "cell_type": "markdown",
   "metadata": {},
   "source": [
    "* classmethod는 다음과 같이 정의됩니다.\n",
    "\n",
    "```python\n",
    "\n",
    "@classmethod\n",
    "def methodname(cls):\n",
    "    codeblock\n",
    "```"
   ]
  },
  {
   "cell_type": "code",
   "execution_count": 2,
   "metadata": {},
   "outputs": [
    {
     "name": "stdout",
     "output_type": "stream",
     "text": [
      "왈왈\n",
      "이것은 개입니다! 이것은 개입니다!\n",
      "bitrh: 1, Current: 1\n"
     ]
    }
   ],
   "source": [
    "# 개의 숫자를 출력하는 classmethod를 만들어보겠습니다.\n",
    "class Dog:\n",
    "    num_of_dogs = 0\n",
    "    birth_of_dogs = 0\n",
    "    list_of_dogs = []\n",
    "    def __init__(self, name, breed):\n",
    "        self.name = name\n",
    "        self.breed = breed\n",
    "        Dog.num_of_dogs += 1\n",
    "        Dog.birth_of_dogs += 1\n",
    "        Dog.list_of_dogs.append(self.name)\n",
    "        \n",
    "    def __del__(self):\n",
    "        Dog.num_of_dogs -= 1\n",
    "    \n",
    "    def bark(self):\n",
    "        return '왈왈'\n",
    "    \n",
    "    @staticmethod\n",
    "    def info(): # 여기는 self 넣는거 아님!\n",
    "        return '이것은 개입니다!'  # f'총 {Dog.num_of_dogs}마리의 개가 있습니다!' \n",
    "    \n",
    "    @classmethod\n",
    "    def birth(cls): # 여기는 cls라는 정식 인자가 있음\n",
    "        return f'bitrh: {cls.birth_of_dogs}, Current: {cls.num_of_dogs}'   #'총 {cls.birth_of_dogs}마리의 개가 태어났습니다!'\n",
    "    \n",
    "d = Dog('choco', 'Poodle')\n",
    "#instance method\n",
    "print(d.bark())\n",
    "\n",
    "#static method\n",
    "print(d.info(), Dog.info())\n",
    "\n",
    "#classmethod\n",
    "print(Dog.birth())"
   ]
  },
  {
   "cell_type": "code",
   "execution_count": 3,
   "metadata": {},
   "outputs": [],
   "source": [
    "# 3마리를 만들어보고,\n",
    "d1 = Dog('초코', '푸들')\n",
    "d2 = Dog('조지', '시바')\n",
    "d3 = Dog('알프레도', '웰시코기')"
   ]
  },
  {
   "cell_type": "code",
   "execution_count": 4,
   "metadata": {
    "scrolled": true
   },
   "outputs": [
    {
     "name": "stdout",
     "output_type": "stream",
     "text": [
      "이것은 개입니다!\n",
      "bitrh: 4, Current: 4\n"
     ]
    }
   ],
   "source": [
    "# 함수를 호출해봅시다.\n",
    "print(Dog.info())\n",
    "print(Dog.birth())"
   ]
  },
  {
   "cell_type": "markdown",
   "metadata": {},
   "source": [
    "## 실습문제 - 정적 메소드\n",
    "\n",
    "> 계산기 class인 `Calculator`를 만들어봅시다.\n",
    "\n",
    "* 정적 메소드 : 두 수를 받아서 각각의 연산을 한 결과를 반환(return)\n",
    "\n",
    "    1. `add()` : 덧셈\n",
    "    \n",
    "    2. `sub()` : 뺄셈 \n",
    "    \n",
    "    3. `mul()` : 곱셈\n",
    "    \n",
    "    4. `div()` : 나눗셈\n"
   ]
  },
  {
   "cell_type": "code",
   "execution_count": 18,
   "metadata": {},
   "outputs": [],
   "source": [
    "# 아래에 코드를 작성해주세요.\n",
    "class Calculator:\n",
    "    @staticmethod\n",
    "    def add(num1, num2):\n",
    "        return num1 + num2\n",
    "    \n",
    "    @staticmethod\n",
    "    def sub(num1, num2):\n",
    "        return abs(num1 - num2)\n",
    "    \n",
    "    @staticmethod\n",
    "    def mul(num1, num2):\n",
    "        return num1 * num2 \n",
    "    \n",
    "    @staticmethod\n",
    "    def div(num1, num2):\n",
    "        if num1 > num2:\n",
    "            return num1 / num2\n",
    "        elif num1 < num2:\n",
    "            return num1 / num2\n",
    "        elif num1 == num2:\n",
    "            return 1"
   ]
  },
  {
   "cell_type": "code",
   "execution_count": 19,
   "metadata": {},
   "outputs": [
    {
     "name": "stdout",
     "output_type": "stream",
     "text": [
      "3\n",
      "6\n",
      "0.2\n",
      "5.0\n"
     ]
    }
   ],
   "source": [
    "# 정적메소드를 호출해보세요.\n",
    "print(Calculator.add(1,2))\n",
    "print(Calculator.mul(2,3))\n",
    "print(Calculator.div(1,5))\n",
    "print(Calculator.div(5,1))"
   ]
  },
  {
   "cell_type": "markdown",
   "metadata": {},
   "source": [
    "## 실습문제 - 종합1\n",
    "\n",
    "> 사실 이전에 작성한 Mylist는 완벽하지 않았습니다. \n",
    ">\n",
    "> 한번 제대로 된 자료구조를 만들어보겠습니다. \n",
    ">\n",
    "> `Stack` 클래스를 간략하게 구현해봅시다.\n",
    "\n",
    "> [Stack](https://ko.wikipedia.org/wiki/%EC%8A%A4%ED%83%9D) : 스택은 LIFO(Last in First Out)으로 구조화된 자료구조를 뜻합니다.\n",
    "\n",
    "1. `empty()`: 스택이 비었다면 참을 주고,그렇지 않다면 거짓이 된다.\n",
    "\n",
    "2. `top()`: 스택의 가장 마지막 데이터를 넘겨준다. 스택이 비었다면 None을 리턴해주세요.\n",
    "\n",
    "3. `pop()`: 스택의 가장 마지막 데이터의 값을 넘겨주고 해당 데이터를 삭제한다. 스택이 비었다면 None을 리턴해주세요.\n",
    "\n",
    "4. `push()`: 스택의 가장 마지막 데이터 뒤에 값을 추가한다. 리턴값 없음\n",
    "\n",
    "**다 완료하신 분들은 __repr__을 통해 예쁘게 출력까지 해봅시다.**"
   ]
  },
  {
   "cell_type": "code",
   "execution_count": 9,
   "metadata": {},
   "outputs": [],
   "source": [
    "# 여기에 코드를 작성해주세요.\n",
    "class Stack:\n",
    "    def __init__(self):\n",
    "        self.items = []\n",
    "        \n",
    "    def empty(self):\n",
    "        return not bool(self.items)\n",
    "    \n",
    "    def push(self, e):\n",
    "        self.items.append(e)\n",
    "    \n",
    "    def pop(self): \n",
    "        if not self.empty():\n",
    "            return self.items.pop()\n",
    "    \n",
    "    def top(self): \n",
    "        if self.items:\n",
    "            return self.items[-1]\n",
    "           \n",
    "    \n",
    "    # 객체 자체가 리턴하는 값\n",
    "    def __repr__(self):\n",
    "        return '\\n'.join(self.items)\n",
    "    \n",
    "    # 객체를 print 하면 나오는 값\n",
    "    def __str__(self):\n",
    "        return'|'.join(self.items)"
   ]
  },
  {
   "cell_type": "code",
   "execution_count": 12,
   "metadata": {},
   "outputs": [
    {
     "name": "stdout",
     "output_type": "stream",
     "text": [
      "True\n",
      "None\n",
      "None\n",
      "False\n",
      "2\n",
      "False\n",
      "2\n",
      "False\n",
      "1\n",
      "1\n",
      "None\n",
      "True\n",
      "None\n",
      "None\n",
      "None\n"
     ]
    }
   ],
   "source": [
    "# 인스턴스를 하나 만들고 메소드 조작을 해봅시다.\n",
    "s = Stack()\n",
    "print(s.empty()) # True\n",
    "print(s.push(1)) # None\n",
    "print(s.push(2)) # None\n",
    "print(s.empty()) # False\n",
    "print(s.top()) # 맨 위에 있는 2을 그냥 읽고\n",
    "print(s.empty()) # False\n",
    "print(s.pop()) # 맨 위에 있는 2을 꺼내서 읽고\n",
    "print(s.empty()) # False\n",
    "print(s.top()) # 맨 위에 있는 1을 그냥 읽고\n",
    "print(s.pop()) # 맨 위에 있는 1을 꺼내서 읽고\n",
    "print(s.pop()) # None\n",
    "print(s.empty()) # True\n",
    "print(s.push('a')) # None\n",
    "print(s.push('b')) # None\n",
    "print(s.push('c')) # None"
   ]
  },
  {
   "cell_type": "code",
   "execution_count": 13,
   "metadata": {},
   "outputs": [
    {
     "name": "stdout",
     "output_type": "stream",
     "text": [
      "a|b|c\n"
     ]
    },
    {
     "data": {
      "text/plain": [
       "a\n",
       "b\n",
       "c"
      ]
     },
     "execution_count": 13,
     "metadata": {},
     "output_type": "execute_result"
    }
   ],
   "source": [
    "print(s)\n",
    "s"
   ]
  },
  {
   "cell_type": "markdown",
   "metadata": {},
   "source": [
    "## 연산자 오버라이딩(중복 정의) 덮어쓰기 얘기 하는 거!\n",
    "\n",
    "* 파이썬에 기본적으로 정의된 연산자를 직접적으로 정의하여 활용할 수 있습니다. \n",
    "\n",
    "* 몇가지만 소개하고 활용해봅시다.\n",
    "\n",
    "```\n",
    "+  __add__   \n",
    "-  __sub__\n",
    "*  __mul__\n",
    "<  __lt__\n",
    "<= __le__\n",
    "== __eq__\n",
    "!= __ne__\n",
    ">= __ge__\n",
    ">  __gt__\n",
    "```"
   ]
  },
  {
   "cell_type": "code",
   "execution_count": 14,
   "metadata": {},
   "outputs": [],
   "source": [
    "# 사람과 사람을 같은지 비교하면, 이는 나이가 같은지 비교한 결과를 반환하도록 만들어봅시다.\n",
    "class Person:\n",
    "    population = 0\n",
    "    \n",
    "    def __init__(self, name, age):\n",
    "        self.name = name\n",
    "        self.age = age\n",
    "        Person.population += 1\n",
    "        \n",
    "    def greeting(self):\n",
    "        print(f'{self.name} 입니다. 반갑습니다!')\n",
    "        \n",
    "    def __repr__(self):\n",
    "        return f'<\"name\": {self.name}, \"age\": {self.age} >'\n",
    "        \n",
    "    def __gt__(self, other):\n",
    "        if self.age > other.age:\n",
    "            return '오른쪽이 연장자'\n",
    "        else:\n",
    "            return '왼쪽이 연장자'  \n",
    "        \n",
    "    def __add__(self, other): # 세상에 존재하던 add에다가 내가 정의한 add를 오버라이딩 했기 때문에 적어도 이 class 안에서는 내가 정의 한 add 값으로 나온다!\n",
    "        if isinstance(other, int):\n",
    "            return '얌마 못더함!'\n",
    "        \n",
    "#   p + 1 와  p.__add__(1) 같은 말"
   ]
  },
  {
   "cell_type": "code",
   "execution_count": 15,
   "metadata": {},
   "outputs": [
    {
     "ename": "TypeError",
     "evalue": "unsupported operand type(s) for +: 'int' and 'str'",
     "output_type": "error",
     "traceback": [
      "\u001b[1;31m---------------------------------------------------------------------------\u001b[0m",
      "\u001b[1;31mTypeError\u001b[0m                                 Traceback (most recent call last)",
      "\u001b[1;32m<ipython-input-15-e8ce021d1aaf>\u001b[0m in \u001b[0;36m<module>\u001b[1;34m\u001b[0m\n\u001b[1;32m----> 1\u001b[1;33m \u001b[1;36m1\u001b[0m \u001b[1;33m+\u001b[0m \u001b[1;34m'a'\u001b[0m\u001b[1;33m\u001b[0m\u001b[1;33m\u001b[0m\u001b[0m\n\u001b[0m\u001b[0;32m      2\u001b[0m \u001b[1;33m\u001b[0m\u001b[0m\n\u001b[0;32m      3\u001b[0m \u001b[1;33m(\u001b[0m\u001b[1;36m1\u001b[0m\u001b[1;33m)\u001b[0m\u001b[1;33m.\u001b[0m\u001b[0m__add__\u001b[0m\u001b[1;33m(\u001b[0m\u001b[1;34m'a'\u001b[0m\u001b[1;33m)\u001b[0m\u001b[1;33m\u001b[0m\u001b[1;33m\u001b[0m\u001b[0m\n\u001b[0;32m      4\u001b[0m \u001b[1;33m(\u001b[0m\u001b[1;36m3\u001b[0m\u001b[1;33m)\u001b[0m\u001b[1;33m.\u001b[0m\u001b[0m__gt__\u001b[0m\u001b[1;33m(\u001b[0m\u001b[1;36m2\u001b[0m\u001b[1;33m)\u001b[0m\u001b[1;33m\u001b[0m\u001b[1;33m\u001b[0m\u001b[0m\n",
      "\u001b[1;31mTypeError\u001b[0m: unsupported operand type(s) for +: 'int' and 'str'"
     ]
    }
   ],
   "source": [
    "1 + 'a'\n",
    "\n",
    "(1).__add__('a')\n",
    "(3).__gt__(2)"
   ]
  },
  {
   "cell_type": "code",
   "execution_count": 16,
   "metadata": {},
   "outputs": [
    {
     "name": "stdout",
     "output_type": "stream",
     "text": [
      "오른쪽이 연장자\n",
      "얌마 못더함!\n"
     ]
    }
   ],
   "source": [
    "# 연산자를 호출해봅시다.\n",
    "p1 = Person('곽동령', 27)\n",
    "p2 = Person('손흥민', 26)\n",
    "\n",
    "print(p1 > p2)\n",
    "\n",
    "print(p1 + 1)"
   ]
  },
  {
   "cell_type": "code",
   "execution_count": null,
   "metadata": {},
   "outputs": [],
   "source": [
    "# 원하는 연산자를 사람과 사람을 비교해보세요."
   ]
  },
  {
   "cell_type": "code",
   "execution_count": null,
   "metadata": {},
   "outputs": [],
   "source": [
    "# 파이썬 내부를 살펴봅시다."
   ]
  },
  {
   "cell_type": "markdown",
   "metadata": {},
   "source": [
    "# 상속 \n",
    "\n",
    "## 기초\n",
    "\n",
    "* 클래스에서 가장 큰 특징은 '상속' 기능을 가지고 있다는 것이다. \n",
    "\n",
    "* 부모 클래스의 모든 속성이 자식 클래스에게 상속 되므로 코드재사용성이 높아집니다.\n",
    "\n",
    "```python\n",
    "class DerivedClassName(BaseClassName):\n",
    "    code block\n",
    "```"
   ]
  },
  {
   "cell_type": "code",
   "execution_count": 28,
   "metadata": {},
   "outputs": [
    {
     "name": "stdout",
     "output_type": "stream",
     "text": [
      "반갑습니다, 사람입니다.\n",
      "반갑습니다, 동령입니다.\n"
     ]
    }
   ],
   "source": [
    "# 인사만 할 수 있는 간단한 사람 클래스를 만들어봅시다.\n",
    "class Person:\n",
    "    population = 0\n",
    "    def __init__(self, name = '사람'):\n",
    "        self.name = name\n",
    "        Person.population += 1\n",
    "        \n",
    "    def greeting(self):\n",
    "        print (f'반갑습니다, {self.name}입니다.')\n",
    "        \n",
    "p = Person()\n",
    "p.greeting()\n",
    "\n",
    "p1 = Person('동령')\n",
    "p1.greeting()"
   ]
  },
  {
   "cell_type": "code",
   "execution_count": 29,
   "metadata": {},
   "outputs": [],
   "source": [
    "# 사람 클래스를 상속받아 학생 클래스를 만들어봅시다.\n",
    "\n",
    "class Student(Person):\n",
    "    def __init__(self, student_id, name = '학생'):\n",
    "        self.name = name\n",
    "        self.student_id = student_id\n",
    "        Person.population += 1\n",
    "\n",
    "#     def greeting(self):\n",
    "#         print(f'반갑습니다, {self.student_id}번 학생 {self.name}입니다.')\n"
   ]
  },
  {
   "cell_type": "code",
   "execution_count": 30,
   "metadata": {},
   "outputs": [
    {
     "name": "stdout",
     "output_type": "stream",
     "text": [
      "반갑습니다, 학생입니다.\n"
     ]
    },
    {
     "data": {
      "text/plain": [
       "3"
      ]
     },
     "execution_count": 30,
     "metadata": {},
     "output_type": "execute_result"
    }
   ],
   "source": [
    "# 학생을 만들어봅시다.\n",
    "s = Student(1)\n",
    "\n",
    "# 부모 클래스에 정의를 했음에도 메소드를 호출 할 수 있습니다.\n",
    "s.greeting()\n",
    "s.population"
   ]
  },
  {
   "cell_type": "markdown",
   "metadata": {},
   "source": [
    "* 이처럼 상속은 공통된 속성이나 메소드를 부모 클래스에 정의하고, 이를 상속받아 다양한 형태의 사람들을 만들 수 있습니다."
   ]
  },
  {
   "cell_type": "code",
   "execution_count": 31,
   "metadata": {},
   "outputs": [
    {
     "data": {
      "text/plain": [
       "False"
      ]
     },
     "execution_count": 31,
     "metadata": {},
     "output_type": "execute_result"
    }
   ],
   "source": [
    "# 진짜 상속관계인지 확인해봅시다.\n",
    "issubclass(Person, Student) # 앞에 있는 애가 뒤에 있는 애의 subclass냐? "
   ]
  },
  {
   "cell_type": "code",
   "execution_count": 34,
   "metadata": {},
   "outputs": [
    {
     "name": "stdout",
     "output_type": "stream",
     "text": [
      "True\n",
      "True\n",
      "True\n"
     ]
    }
   ],
   "source": [
    "print(issubclass(Student, Person))\n",
    "print(isinstance(s, Student))\n",
    "print(isinstance(s, Person))"
   ]
  },
  {
   "cell_type": "markdown",
   "metadata": {},
   "source": [
    "## super()\n",
    "\n",
    "* 자식 클래스에 메서드를 추가 구현할 수 있습니다.\n",
    "\n",
    "* 부모 클래스의 내용을 사용하고자 할 때, `super()`를 사용할 수 있습니다."
   ]
  },
  {
   "cell_type": "code",
   "execution_count": null,
   "metadata": {},
   "outputs": [],
   "source": [
    "class Person:\n",
    "    def __init__(self, name, age, number, email):\n",
    "        self.name = name\n",
    "        self.age = age\n",
    "        self.number = number\n",
    "        self.email = email \n",
    "        \n",
    "    def greeting(self):\n",
    "        print(f'안녕, {self.name}')\n",
    "        \n",
    "class Student(Person):\n",
    "    def __init__(self, name, age, number, email, student_id):\n",
    "        self.name = name\n",
    "        self.age = age\n",
    "        self.number = number\n",
    "        self.email = email \n",
    "        self.student_id = student_id\n",
    "        \n",
    "p1 = Person('홍길동', 200, '0101231234', 'hong@gildong')\n",
    "s1 = Student('학생', 20, '12312312', 'student@naver.com', '190000')"
   ]
  },
  {
   "cell_type": "markdown",
   "metadata": {},
   "source": [
    "* 위의 코드를 보면, 상속을 했음에도 불구하고 동일한 코드가 반복됩니다. "
   ]
  },
  {
   "cell_type": "code",
   "execution_count": 37,
   "metadata": {},
   "outputs": [
    {
     "name": "stdout",
     "output_type": "stream",
     "text": [
      "안녕, 학생\n"
     ]
    }
   ],
   "source": [
    "# 이를 수정해봅시다.\n",
    "\n",
    "class Person:\n",
    "    def __init__(self, name, age, number, email):\n",
    "        self.name = name\n",
    "        self.age = age\n",
    "        self.number = number\n",
    "        self.email = email \n",
    "        \n",
    "    def greeting(self):\n",
    "        print(f'안녕, {self.name}')\n",
    "        \n",
    "class Student(Person):\n",
    "    def __init__(self, name, age, number, email, student_id):\n",
    "        super().__init__(name, age, number, email) # 내 상위 클래스를 그대로 가져온다는 뜻  Person()과 같은 말\n",
    "        self.student_id = student_id\n",
    "        \n",
    "p1 = Person('홍길동', 200, '0101231234', 'hong@gildong')\n",
    "s1 = Student('학생', 20, '12312312', 'student@naver.com', '190000')\n",
    "s1.greeting()"
   ]
  },
  {
   "cell_type": "markdown",
   "metadata": {},
   "source": [
    "## 메소드 오버라이딩\n",
    "\n",
    "* 메서드를 재정의할 수도 있습니다."
   ]
  },
  {
   "cell_type": "code",
   "execution_count": 42,
   "metadata": {},
   "outputs": [
    {
     "name": "stdout",
     "output_type": "stream",
     "text": [
      "충성! 준위 권택건\n"
     ]
    }
   ],
   "source": [
    "# 군인은 다른 인사를 합니다.\n",
    "class Soldier(Person):\n",
    "    def __init__(self, name, age, number, email, army):\n",
    "        super().__init__(name, age, number, email)\n",
    "        self.army = army\n",
    "        \n",
    "    def greeting(self):\n",
    "        print(f'충성! {self.army} {self.name}')\n",
    "s = Soldier('권택건', '25', '0101234568', 'Hermes@hermes.com', '준위')\n",
    "s.greeting()\n"
   ]
  },
  {
   "cell_type": "markdown",
   "metadata": {},
   "source": [
    "## 상속관계에서의 이름공간\n",
    "\n",
    "* 기존에 인스턴스 -> 클래스순으로 이름 공간을 탐색해나가는 과정에서 상속관계에 있으면 아래와 같이 확장됩니다.\n",
    "\n",
    "* 인스턴스 -> 자식 클래스 -> 부모 클래스 -> 전역"
   ]
  },
  {
   "cell_type": "markdown",
   "metadata": {},
   "source": [
    "## 실습1 \n",
    "\n",
    "> Teacher 클래스를 만들어보고 Student와 Teacher 클래스에 각각 다른 행동의 메소드들을 하나씩 추가해봅시다."
   ]
  },
  {
   "cell_type": "code",
   "execution_count": 57,
   "metadata": {},
   "outputs": [
    {
     "name": "stdout",
     "output_type": "stream",
     "text": [
      "happyhacking에서 일하고 있는 강사 유태영입니다. 취미는 먹방 asmr입니다.\n",
      "ssafy에서 공부하고 있는 학생 곽동령입니다. 나이는 27입니다.\n"
     ]
    }
   ],
   "source": [
    "# 아래에 코드를 작성해주세요.\n",
    "class Teacher:\n",
    "    def __init__(self, name, job, company, hobby):\n",
    "        self.name = name\n",
    "        self.job = job\n",
    "        self.company = company\n",
    "        self.hobby = hobby\n",
    "    \n",
    "    def greeting(self):\n",
    "        print(f'{self.company}에서 일하고 있는 {self.job} {self.name}입니다. 취미는 {self.hobby}입니다.' )\n",
    "              \n",
    "yu = Teacher('유태영', '강사', 'happyhacking', '먹방 asmr')\n",
    "yu.greeting()\n",
    "\n",
    "\n",
    "class Student(Teacher):\n",
    "    def __init__(self, name, job, age, company, hobby):\n",
    "        super().__init__(name, job, company, hobby)\n",
    "        self.age = age\n",
    "    \n",
    "    def greeting(self):\n",
    "        print(f'{self.company}에서 공부하고 있는 {self.job} {self.name}입니다. 나이는 {self.age}입니다.' )\n",
    "\n",
    "dr = Student('곽동령', '학생', '27', 'ssafy', '영화보기')\n",
    "dr.greeting()    "
   ]
  },
  {
   "cell_type": "markdown",
   "metadata": {},
   "source": [
    "## 실습2\n",
    "\n",
    "> 사실 사람은 포유류입니다. \n",
    ">\n",
    "> Animal Class를 만들고, Person클래스가 상속받도록 구성해봅시다.\n",
    ">\n",
    "> 변수나, 메소드는 자유롭게 만들어봅시다."
   ]
  },
  {
   "cell_type": "markdown",
   "metadata": {},
   "source": [
    "# 다중상속\n",
    "두개 이상의 클래스를 상속받는 경우, 다중상속이 됩니다."
   ]
  },
  {
   "cell_type": "code",
   "execution_count": 58,
   "metadata": {},
   "outputs": [
    {
     "data": {
      "text/plain": [
       "'첨벙첨벙'"
      ]
     },
     "execution_count": 58,
     "metadata": {},
     "output_type": "execute_result"
    }
   ],
   "source": [
    "# 아래에 코드를 작성해주세요.\n",
    "class Person:\n",
    "    def __init__(self, name):\n",
    "        self.name = name\n",
    "    \n",
    "    def breath(self):\n",
    "        return '날숨'\n",
    "    \n",
    "    def greeting(self):\n",
    "        return 'hi' + self.name\n",
    "    \n",
    "class Mom(Person):\n",
    "    gene = 'XX'\n",
    "    \n",
    "    def swim(self):\n",
    "        return '첨벙첨벙'\n",
    "    \n",
    "class Dad(Person):\n",
    "    gene = 'XY'\n",
    "    \n",
    "    def kick(self):\n",
    "        return '슛'\n",
    "    \n",
    "class Child(Dad, Mom):\n",
    "    def cry(self):\n",
    "        return '응애'\n",
    "    \n",
    "c = Child('애')\n",
    "c.swim()"
   ]
  }
 ],
 "metadata": {
  "kernelspec": {
   "display_name": "Python 3",
   "language": "python",
   "name": "python3"
  },
  "language_info": {
   "codemirror_mode": {
    "name": "ipython",
    "version": 3
   },
   "file_extension": ".py",
   "mimetype": "text/x-python",
   "name": "python",
   "nbconvert_exporter": "python",
   "pygments_lexer": "ipython3",
   "version": "3.6.7"
  },
  "latex_envs": {
   "LaTeX_envs_menu_present": true,
   "autoclose": false,
   "autocomplete": true,
   "bibliofile": "biblio.bib",
   "cite_by": "apalike",
   "current_citInitial": 1,
   "eqLabelWithNumbers": true,
   "eqNumInitial": 1,
   "hotkeys": {
    "equation": "Ctrl-E",
    "itemize": "Ctrl-I"
   },
   "labels_anchors": false,
   "latex_user_defs": false,
   "report_style_numbering": false,
   "user_envs_cfg": false
  },
  "toc": {
   "base_numbering": 1,
   "nav_menu": {},
   "number_sections": true,
   "sideBar": true,
   "skip_h1_title": false,
   "title_cell": "Table of Contents",
   "title_sidebar": "Contents",
   "toc_cell": false,
   "toc_position": {},
   "toc_section_display": true,
   "toc_window_display": false
  }
 },
 "nbformat": 4,
 "nbformat_minor": 2
}
