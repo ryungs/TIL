{
 "cells": [
  {
   "cell_type": "markdown",
   "metadata": {},
   "source": [
    "# Problem set"
   ]
  },
  {
   "cell_type": "markdown",
   "metadata": {},
   "source": [
    "## 190108"
   ]
  },
  {
   "cell_type": "markdown",
   "metadata": {},
   "source": [
    "### 1. 이상한 덧셈\n",
    "> 숫자로 구성된 리스트에서 양의 정수 합을 구하는 함수, `positive_sum` 을 만들어 보아요.\n",
    "\n",
    "예시)\n",
    "```python\n",
    "positive_sum([1, -10, 2]) # 3\n",
    "positive_sum([-1, -2, -3, -4]) # 0\n",
    "```"
   ]
  },
  {
   "cell_type": "code",
   "execution_count": null,
   "metadata": {},
   "outputs": [],
   "source": [
    "# 1. 이상한 덧셈 문제에서 *args를 쓰지 않아도 되는 이유 설명\n",
    "# 대괄호로 묶여있기 때문에 여러개의 인자가 아니라 한 개의 인자라서\n",
    "\n",
    "def argss(*args):\n",
    "    return (args, type(args))\n",
    "\n",
    "print(argss(1, 2, 3))"
   ]
  },
  {
   "cell_type": "code",
   "execution_count": null,
   "metadata": {},
   "outputs": [],
   "source": [
    "# my code\n",
    "\n",
    "def positive_sum(my_list):\n",
    "    x = 0\n",
    "    for number in my_list:\n",
    "        if number > 0:\n",
    "            x = x + number\n",
    "    return  x\n",
    "        \n",
    "positive_sum([1, 2, -2])\n",
    "\n",
    "# 함수 안 만들고 for문을 써서 하면\n",
    "# number = [2, 2, -1]\n",
    "# new = []\n",
    "# for i in positive_sum:\n",
    "#     if i > 0:\n",
    "#         new = new + [i] # new += [i]\n",
    "# print(sum(new))"
   ]
  },
  {
   "cell_type": "code",
   "execution_count": null,
   "metadata": {},
   "outputs": [],
   "source": [
    "# teacher code\n",
    "\n",
    "def positive_sum(numbers):\n",
    "    total = 0\n",
    "    for number in numbers:\n",
    "        if number > 0:\n",
    "            total += number\n",
    "    return total\n",
    "\n",
    "# 1번 문제 변형\n",
    "def pos_sum(numbers):\n",
    "    return sum(x for x in numbers if x > 0)\n",
    "\n",
    "print(positive_sum([1, 2, -2]))\n",
    "print(pos_sum([1, 2, -2]))"
   ]
  },
  {
   "cell_type": "markdown",
   "metadata": {},
   "source": [
    "### 2. 문자열 탐색\n",
    "> 문자열 요소만으로 이루어진 리스트를 넣었을 때, 문자열의 길이가 2 이상이고 주어진 문자열의 첫 번째와 마지막 문자가 같은 문자열의 수를 세는 함수 `start_end` 를 작성하세요\n",
    "\n",
    "예시)\n",
    "```python\n",
    "start_end(['level', 'asdwe', 's', 'abadsfa', 'qlq']) #3\n",
    "```"
   ]
  },
  {
   "cell_type": "code",
   "execution_count": null,
   "metadata": {},
   "outputs": [],
   "source": [
    "# my code 미완성\n",
    "def start_end(new_list):\n",
    "    for text in new_list:\n",
    "        if 2 <= len(text) and text "
   ]
  },
  {
   "cell_type": "code",
   "execution_count": null,
   "metadata": {},
   "outputs": [],
   "source": [
    "# teacher code\n",
    "def start_end(words):\n",
    "    count = 0\n",
    "    for word in words:\n",
    "        if len(word) > 1 and word[0] == word[-1]:\n",
    "            count += 1\n",
    "    return count\n",
    "\n",
    "start_end(['level', 'asdwe', 's', 'abadsfa', 'qlq'])"
   ]
  },
  {
   "cell_type": "markdown",
   "metadata": {},
   "source": [
    "### 3. Collatz\n",
    "> Collatz 추측 : 어떤 자연수 n 이던지, 다음과 같은 작업을 반복하면 1로 만들 수 있다\n",
    "1. n이 짝수라면 2로 나눈다.\n",
    "2. n이 홀수라면 3을 곱하고 1을 더한다\n",
    "3. 결과로 나온 수에 1 / 2 의 작업을 1이 될때까지 반복한다.\n",
    "\n",
    "> 예를 들어 n 이 6이면, 6 => 3 => 10 => 5 => 16 => 8 => 4 => 2 => 1 이 되며 8번(=>갯수!)만에 1이 됩니다. 자연수 n 이 들어왔을 때, 몇 번의 작업만에 1이 되는 지를 `return` 하는 함수 `collatz()` 를 완성하세요\n",
    "\n",
    "> 단! 500 번을 넘어가도 1이 되지 않는다면, -1을 `return` 할게요!\n",
    "\n",
    "예시)\n",
    "```python\n",
    "collatz(6) # 8\n",
    "collatz(16) # 2\n",
    "collatz(6263313) # -1\n",
    "```"
   ]
  },
  {
   "cell_type": "code",
   "execution_count": null,
   "metadata": {},
   "outputs": [],
   "source": [
    "# my code\n",
    "\n",
    "def collatz(n):\n",
    "    count = 0\n",
    "    \n",
    "    while n > 1: \n",
    "        if count > 500:\n",
    "             return -1\n",
    "        \n",
    "        if n % 2 == 0:\n",
    "            n = n / 2\n",
    "        \n",
    "        elif n % 2 == 1:\n",
    "            n = n * 3 + 1 \n",
    "        \n",
    "        count += 1\n",
    "     \n",
    "    return count # 마지막이 1이 될 때까지 했던 작업의 수\n",
    "    \n",
    "collatz(6)"
   ]
  },
  {
   "cell_type": "code",
   "execution_count": null,
   "metadata": {},
   "outputs": [],
   "source": [
    "# teacher code\n",
    "\n",
    "def collatz(num):\n",
    "    for i in range(500):\n",
    "          # num = num * 3 + 1 if num 2 else num / 2 : if else 문을 한줄로 바꾼거\n",
    "        if num % 2: # 0 이 아니면 True = 홀수를 뜻한다\n",
    "            num = num * 3 + 1\n",
    "        else: # 짝수면\n",
    "            num = num / 2\n",
    "      \n",
    "        \n",
    "        if num == 1:\n",
    "            return i + 1\n",
    "    return -1\n",
    "\n",
    "print(collatz(6))\n",
    "print(collatz(16))\n",
    "print(collatz(626331))"
   ]
  },
  {
   "cell_type": "markdown",
   "metadata": {},
   "source": [
    "### 4. 솔로천국\n",
    "> 리스트가 주어질 때, 리스트의 요소 `e` 는 `range(0, 10)` 에 포함되는 자연수 이다. 리스트에서 연속적으로 나타나는 숫자는 하나만 남기고 전부 제거하여 `return` 하는 함수 `lonely()` 를 작성해 보세요. 이때! 제거된 후 남은 수들을 반환할 때는 리스트이 요소들이 순서를 유지해야 합니다!\n",
    "\n",
    "예시)\n",
    "```python\n",
    "lonely([1, 1, 3, 3, 0, 1, 1, 3, 0, 3]) # [1, 3, 0]\n",
    "lonely([4, 4, 3, 3, 3, 4]) # [4, 3] \n",
    "```"
   ]
  },
  {
   "cell_type": "code",
   "execution_count": null,
   "metadata": {},
   "outputs": [],
   "source": [
    "# my code \n",
    "# 처음에 set을 쓰려고 했는데 set이 안되는 이유는 순서가 없는 함수이기 때문에\n",
    "\n",
    "lonely = [1, 1, 3, 3, 0, 1, 1, 3, 0, 3]\n",
    "e_list = set(lonely)\n",
    "print(e_list)"
   ]
  },
  {
   "cell_type": "code",
   "execution_count": null,
   "metadata": {},
   "outputs": [],
   "source": [
    "# my code\n",
    "\n",
    "def lonely(my_list):\n",
    "    result = []\n",
    "    for i in my_list:\n",
    "        if i not in result:\n",
    "            result.append(i)\n",
    "        \n",
    "    return result \n",
    "\n",
    "example = [1, 1, 3, 3, 0, 1, 1, 3, 0, 3]\n",
    "\n",
    "lonely(example)"
   ]
  },
  {
   "cell_type": "code",
   "execution_count": null,
   "metadata": {},
   "outputs": [],
   "source": [
    "# teacher code\n",
    "\n",
    "def lonely(numbers):\n",
    "    result = [] # 원본을 훼손하면 index 값이 수정되기 떄문에 어떤 결과가 나올지 모른다. 따라서 원본을 훼손하면 안된다.\n",
    "    \n",
    "    for number in numbers:\n",
    "        if not result: #result가 비어있니? 그럼 result 값에 넣어\n",
    "            result.append(number)\n",
    "        \n",
    "        elif result[-1] != number:\n",
    "            if result.count(number) == 0:\n",
    "                result.append(number)\n",
    "    return result\n",
    "\n",
    "# teacher code 짧게 수정한거\n",
    "def lonely(numbers):\n",
    "    result = []\n",
    "    \n",
    "    for number in numbers:\n",
    "        if not result or (result[-1] != number and result.count(number) == 0):\n",
    "            result.append(number)\n",
    "    return result\n",
    "\n",
    "example = [1, 1, 3, 3, 0, 1, 1, 3, 0, 3]    \n",
    "lonely(example)"
   ]
  },
  {
   "cell_type": "markdown",
   "metadata": {},
   "source": [
    "### 5. * RGB 삼각형\n",
    "\n",
    "| BG   | RG   | BR   | RR   | GG   | BB   |\n",
    "| ---- | ---- | ---- | ---- | ---- | ---- |\n",
    "| R    | B    | G    | R    | G    | B    |\n",
    "\n",
    ">입력으로 `'R', 'G', 'B'`가 섞여있는 문자열이 들어온다. 문자열은 다음과 같이 합쳐진다. 해당 문자열을 처리하여 마지막 색깔만 `return`하는 `triangle()`을 작성하세요.\n",
    "```\n",
    "R R G B R G B B\n",
    " R B R G B R B\n",
    "  G G B R G G\n",
    "   G R G B G\n",
    "    B B R R\n",
    "     B G R\n",
    "      R B\n",
    "       G\n",
    "```\n",
    "\n",
    "예시)\n",
    "```python\n",
    "triangle('RRGBRGBB')#G\n",
    "triangle('GB')#R\n",
    "triangle('B')#B\n",
    "triangle('RGBG')#B\n",
    "```"
   ]
  },
  {
   "cell_type": "code",
   "execution_count": null,
   "metadata": {},
   "outputs": [],
   "source": []
  },
  {
   "cell_type": "markdown",
   "metadata": {},
   "source": [
    "### 6. (??) 홀수개를 찾아라\n",
    "> 입력으로 list가 한개 들어옵니다. 이 list에는 1개의 숫자만 홀수개 들어있습니다. 이 1개의 홀수개인 숫자를 `return` 하는 `find_odd()` 를 작성하세요.\n",
    "\n",
    "예시)\n",
    "\n",
    "```\n",
    "find_odd([1, 1, 2, 2, 3, 3, 3]) # 3\n",
    "find_odd([2, 1, 2]) # 1\n",
    "find_odd([1, 2, 2, 3, 2, 2, 1]) # 3\n",
    "```"
   ]
  },
  {
   "cell_type": "code",
   "execution_count": null,
   "metadata": {},
   "outputs": [],
   "source": [
    "# teacher code\n",
    "\n",
    "from operator import xor # xor = 이진법에서 두 숫자가 같으면 0 두 숫자가 다르면 1을 내는 함수\n",
    "\n",
    "def find_odd_1(numbers):\n",
    "    for uniq in list(set(numbers)):\n",
    "        if numbers.count(uniq) % 2:\n",
    "            return uniq\n",
    "\n",
    "print(find_odd_1([1, 1, 2, 2, 3, 3, 3]))\n",
    "\n",
    "def find_odd_2(numbers):\n",
    "    result = 0\n",
    "    for n in numbers:\n",
    "        result = result ^ n\n",
    "        \n",
    "    return result\n",
    "\n",
    "print(find_odd_2([1, 1, 2, 2, 3, 3, 3]))"
   ]
  },
  {
   "cell_type": "markdown",
   "metadata": {},
   "source": [
    "## 190109"
   ]
  },
  {
   "cell_type": "markdown",
   "metadata": {},
   "source": [
    "### 1. UP&DOWN\n",
    "> 우리가 `range(1, 101)` 중 하나를 생각한다. 컴퓨터가 절반에 위치한 숫자를 물어보고, 그 숫자가 생각한 수보다 크면1 , 작으면 -1, 맞으면 0을 입력한다. 이때 몇번 만에 컴퓨터가 맞췄는지 출력하고 프로그램을 끝낸다.\n",
    "\n",
    "예시)\n",
    "```sh\n",
    "숫자를 생각하세요...\n",
    "50\n",
    "> -1 \n",
    "25\n",
    "> -1\n",
    "13\n",
    "> -1\n",
    "7\n",
    "> 1\n",
    "10\n",
    "> 1\n",
    "12\n",
    "> 0\n",
    "6 번만에 맞췄습니다!\n",
    "```"
   ]
  },
  {
   "cell_type": "code",
   "execution_count": null,
   "metadata": {},
   "outputs": [],
   "source": [
    "# my code\n",
    "# 변수를 하나만 써서는 up & down 함수를 만족시킬 수 없기 때문에 밑에 코드는 쓸 수가 없다.\n",
    "# def guess_up_down(n):\n",
    "#     print('숫자를 생각하세요...')\n",
    "#     count = 1\n",
    "#     x = 50\n",
    "#     while x != n:\n",
    "#         print(x)\n",
    "#         user_feedback = int(input('작으면 -1, 맞으면 0, 크면 1 '))\n",
    "        \n",
    "#         if user_feedback == -1:\n",
    "#             # 멕시멈이 바뀌어야 하고\n",
    "#             x = x // 2\n",
    "        \n",
    "#         elif user_feedback == 1:\n",
    "#             # 미니멈이 바뀌어야 하고\n",
    "#             x = (x + 50) // 2\n",
    "        \n",
    "#         elif user_feedback == 0:\n",
    "#             x == n\n",
    "        \n",
    "#         count += 1\n",
    "        \n",
    "#     return count\n",
    "\n",
    "#     print(f'{count} 번 만에 맞춤!')\n",
    "\n",
    "# guess_up_down(44)"
   ]
  },
  {
   "cell_type": "code",
   "execution_count": 1,
   "metadata": {},
   "outputs": [
    {
     "name": "stdout",
     "output_type": "stream",
     "text": [
      "숫자를 생각하세요...\n",
      "50\n",
      "작으면 -1, 맞으면 0, 크면 1 1\n",
      "75\n",
      "작으면 -1, 맞으면 0, 크면 1 -1\n",
      "62\n",
      "작으면 -1, 맞으면 0, 크면 1 1\n",
      "68\n",
      "작으면 -1, 맞으면 0, 크면 1 -1\n",
      "65\n",
      "작으면 -1, 맞으면 0, 크면 1 0\n"
     ]
    },
    {
     "data": {
      "text/plain": [
       "'5 번 만에 맞춤!'"
      ]
     },
     "execution_count": 1,
     "metadata": {},
     "output_type": "execute_result"
    }
   ],
   "source": [
    "# my code\n",
    "\n",
    "def guess_up_down(n):\n",
    "    print('숫자를 생각하세요...')\n",
    "    count = 0\n",
    "    minimum = 0\n",
    "    maximum = 101\n",
    "    \n",
    "    while maximum and minimum != n:\n",
    "        print((maximum + minimum) // 2 )\n",
    "        user_feedback = int(input('작으면 -1, 맞으면 0, 크면 1 '))\n",
    "        \n",
    "        if user_feedback == -1:\n",
    "            maximum = (minimum + maximum) // 2\n",
    "        \n",
    "        elif user_feedback == 1:\n",
    "            minimum = (minimum + maximum) // 2\n",
    "            \n",
    "        elif user_feedback == 0:\n",
    "            count += 1 \n",
    "            break\n",
    "        \n",
    "        count += 1    \n",
    "        \n",
    "    return f'{count} 번 만에 맞춤!'\n",
    "guess_up_down(61)"
   ]
  },
  {
   "cell_type": "code",
   "execution_count": 3,
   "metadata": {
    "scrolled": true
   },
   "outputs": [
    {
     "name": "stdout",
     "output_type": "stream",
     "text": [
      "숫자를 생각하세요...\n",
      "50\n",
      "작으면 -1, 맞으면 0, 크면 1 -1\n",
      "25\n",
      "작으면 -1, 맞으면 0, 크면 1 -1\n",
      "12\n",
      "작으면 -1, 맞으면 0, 크면 1 0\n"
     ]
    },
    {
     "data": {
      "text/plain": [
       "3"
      ]
     },
     "execution_count": 3,
     "metadata": {},
     "output_type": "execute_result"
    }
   ],
   "source": [
    "# teacher code\n",
    "def guess_up_down(n):\n",
    "    count = 0\n",
    "    max_n, min_n = 101, 0\n",
    "    print('숫자를 생각하세요...')\n",
    "    \n",
    "    while 1:\n",
    "        guess = (max_n + min_n) // 2\n",
    "        print(guess)\n",
    "        count += 1\n",
    "        feedback = int(input('작으면 -1, 맞으면 0, 크면 1 '))\n",
    "        \n",
    "        if feedback == -1:\n",
    "            max_n = guess\n",
    "        \n",
    "        elif feedback == 1:\n",
    "            min_n = guess\n",
    "        \n",
    "        else:\n",
    "            return count\n",
    "\n",
    "guess_up_down(12)"
   ]
  },
  {
   "cell_type": "markdown",
   "metadata": {},
   "source": [
    "### 2. 제곱근 구하기 with Bisection\n",
    "> 제곱근을 이분법으로 구하기!"
   ]
  },
  {
   "cell_type": "code",
   "execution_count": null,
   "metadata": {},
   "outputs": [],
   "source": [
    "\n",
    "#     n = 2\n",
    "#     min_n = 1\n",
    "#     max_n = 2\n",
    "\n",
    "#     min_n ** 2 < n < max_n ** 2\n",
    "#     min_n < n < max_n\n",
    "#     1 < n < 2\n",
    "\n",
    "#     guess = (min_n + max_n) / 2 # 1.5\n",
    "#     n > guess ** 2 # 2.25\n",
    "#     n < guess ** 2\n",
    "\n",
    "#     max_n = guess # 1.5\n",
    "#     min_n ** 2 < n < max_n ** 2\n",
    "\n",
    "#     1 < n < 2. 25\n",
    "#     1. 625\n",
    "\n",
    "#     guess = (1 + 1.5) / 2 # 1.25\n",
    "\n",
    "#     n > guess ** 2 # 1.5625\n",
    "#     n < guess ** 2\n",
    "    \n",
    "#     round(min_n, 4) == round(max_n, 4)\n",
    "#     1.41422001\n",
    "#     1.41422003\n",
    "\n",
    "def bisection_method(n):\n",
    "    min_n = 1 # min는 무조건 1이다.\n",
    "    max_n = n\n",
    "\n",
    "    while min_n ** 2 < n < max_n ** 2:\n",
    "        guess = (min_n + max_n) / 2 \n",
    "        \n",
    "        if n < guess ** 2: # guess ** 2을 받아야 하는데 guess로 처음에 잘 못\n",
    "            max_n = guess\n",
    "        \n",
    "        elif n > guess ** 2:\n",
    "            min_n = guess\n",
    "        \n",
    "        if round(min_n, 4) == round(max_n, 4):\n",
    "            return round(min_n, 4)\n",
    "    \n",
    "bisection_method(2)    "
   ]
  },
  {
   "cell_type": "code",
   "execution_count": null,
   "metadata": {},
   "outputs": [],
   "source": [
    "def my_sqrt(n):\n",
    "    minimum, maximum = 0, 1\n",
    "    \n",
    "    while 1:\n",
    "        if n == maximum ** 2:\n",
    "            return maximum\n",
    "        elif minimum ** 2 < n < maximum ** 2:\n",
    "            guess = (minimum + maximum) / 2\n",
    "            \n",
    "            if round(minimum, 5) == round(maximum, 5):\n",
    "                return round(guess, 5)\n",
    "            \n",
    "            elif guess ** 2 > n:\n",
    "                maximum = guess\n",
    "            \n",
    "            else:\n",
    "                minimum = guess\n",
    "        else:\n",
    "            minimum += 1\n",
    "            maximum += 1\n",
    "            \n",
    "                \n",
    "my_sqrt(100)"
   ]
  },
  {
   "cell_type": "code",
   "execution_count": null,
   "metadata": {},
   "outputs": [],
   "source": [
    "import math\n",
    "\n",
    "def my_sqrt_r(n, minimum=0, maximum=1):\n",
    "    if n == maximum ** 2:\n",
    "        return maximum\n",
    "    elif minimum ** 2 < n < maximum ** 2:\n",
    "        guess = (minimum + maximum) / 2\n",
    "        if math.isclose(minimum, maximum):\n",
    "            return guess\n",
    "        elif guess ** 2 > n:\n",
    "            return my_sqrt_r(n, minimum, guess)\n",
    "        else:\n",
    "            return my_sqrt_r(n, guess, minimum)\n",
    "    else:\n",
    "        maximum += 1\n",
    "        minimum += 1\n",
    "        return round(my_sqrt_r(n, minimum, maximum), 5)\n",
    "        \n",
    "my_sqrt_r(10)"
   ]
  },
  {
   "cell_type": "code",
   "execution_count": null,
   "metadata": {
    "scrolled": true
   },
   "outputs": [],
   "source": [
    "import math\n",
    "math.isclose(1, 1)"
   ]
  },
  {
   "cell_type": "markdown",
   "metadata": {},
   "source": [
    "## 190110"
   ]
  },
  {
   "cell_type": "markdown",
   "metadata": {},
   "source": [
    "### 1. Hangman\n",
    "> 밑의 코드를 활용하여 `hangman(answer)` 를 만들자!\n",
    "> 사용자가 답을 맞추거나, 시도가 9번 넘어가면 종료!"
   ]
  },
  {
   "cell_type": "code",
   "execution_count": 2,
   "metadata": {},
   "outputs": [
    {
     "data": {
      "text/plain": [
       "False"
      ]
     },
     "execution_count": 2,
     "metadata": {},
     "output_type": "execute_result"
    }
   ],
   "source": [
    "# teacher code\n",
    "def is_answer(answer, letters):\n",
    "    answer = set(answer)\n",
    "    count = 0\n",
    "    for char in set(letters):\n",
    "        if char in answer:\n",
    "            count += 1\n",
    "    return len(answer) == count\n",
    "\n",
    "is_answer('apple', ['a', 'p', 'l'])"
   ]
  },
  {
   "cell_type": "code",
   "execution_count": 3,
   "metadata": {},
   "outputs": [
    {
     "data": {
      "text/plain": [
       "'a _ _le'"
      ]
     },
     "execution_count": 3,
     "metadata": {},
     "output_type": "execute_result"
    }
   ],
   "source": [
    "def status(answer, letters):\n",
    "    for char in answer:\n",
    "        if char not in letters:\n",
    "            answer = answer.replace(char, ' _')\n",
    "    return answer\n",
    "            \n",
    "status('apple', ['a', 'l', 'e', 'c']) #a는 그대로 두고 없는 것들에 _ 가 나오게 만드는"
   ]
  },
  {
   "cell_type": "code",
   "execution_count": null,
   "metadata": {},
   "outputs": [],
   "source": [
    "### teacher code\n",
    "\n",
    "def hangman(answer):\n",
    "    input_letters = []\n",
    "    attempt = 8\n",
    "    print('===START===')\n",
    "    while 1:\n",
    "        print(\"남은 목숨: \" + '♥' * attempt)\n",
    "        print(status(answer, input_letters))\n",
    "        \n",
    "        guess = input('알파벳을 입력하세요: ').lower()\n",
    "        input_letters.append(guess)\n",
    "        \n",
    "        # some code\n",
    "        \n",
    "        if is_answer(answer, input_letters): \n",
    "            return '성공!'\n",
    "        \n",
    "        else:    \n",
    "            attempt -= 1 #attempt를 실패시에만 까고 싶으면 다시\n",
    "        \n",
    "        if not attempt:\n",
    "            return '실패'\n",
    "        \n",
    "        \n",
    "hangman('apple')"
   ]
  },
  {
   "cell_type": "code",
   "execution_count": null,
   "metadata": {
    "scrolled": true
   },
   "outputs": [],
   "source": [
    "# my code\n",
    "\n",
    "# import string \n",
    "# string.ascii_letters\n",
    "\n",
    "def hangman(answer):\n",
    "    show = answer\n",
    "    count = 0\n",
    "    while 1:\n",
    "        guess = input('알파벳 한 글자를 입력해주세요 ')\n",
    "        for char in answer:\n",
    "            if char != guess:\n",
    "                show = show.replace(char, ' _')\n",
    "        count += 1\n",
    "        print(show)\n",
    "        \n",
    "        if count > 8:\n",
    "            return print('dead')\n",
    "        \n",
    "    \n",
    "    return answer\n",
    "\n",
    "hangman('apple')        \n",
    "#         elif #그 char in input한 알파벳:\n",
    "    \n",
    "#     if count > 9:\n",
    "#         print 'dead'\n",
    "    \n",
    "#     #   answer 안에 있으면 그 letter를 보여줘\n",
    "    \n",
    "#     # 그 input한 letter가  answer 안에 없으면 count += 1 해줘\n",
    "    \n",
    "#     # input 한 count가 9를 초과하면 dead를 띄워줘"
   ]
  }
 ],
 "metadata": {
  "kernelspec": {
   "display_name": "Python 3",
   "language": "python",
   "name": "python3"
  },
  "language_info": {
   "codemirror_mode": {
    "name": "ipython",
    "version": 3
   },
   "file_extension": ".py",
   "mimetype": "text/x-python",
   "name": "python",
   "nbconvert_exporter": "python",
   "pygments_lexer": "ipython3",
   "version": "3.6.7"
  }
 },
 "nbformat": 4,
 "nbformat_minor": 2
}
