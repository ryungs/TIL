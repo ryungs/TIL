{
 "cells": [
  {
   "cell_type": "code",
   "execution_count": 9,
   "metadata": {},
   "outputs": [],
   "source": [
    "import requests\n",
    "\n",
    "movies = ['말모이', '주먹왕 랄프', '보헤미안 랩소디']\n",
    "\n",
    "naver_uri = 'https://openapi.naver.com/v1/search/movie.json?query='\n",
    "\n",
    "cilent_id = '1GQzHOE0wczkN87U0Kgf'\n",
    "client_secret = 'lsISTn2OmX'\n",
    "headers = { 'X-Naver-Client-Id': cilent_id, \n",
    "           'X-Naver-Client-Secret':client_secret \n",
    "}\n",
    "res = requests.get(naver_uri + movies[0], headers = headers)\n",
    "data = res.json()"
   ]
  },
  {
   "cell_type": "code",
   "execution_count": 13,
   "metadata": {
    "scrolled": true
   },
   "outputs": [],
   "source": [
    "result = []\n",
    "for movie in movies:\n",
    "    data_set = requests.get(naver_uri + movie, headers = headers).json()\n",
    "    movie_info = {}\n",
    "    movie_info['title'] = data_set['items'][0]['title']\n",
    "    movie_info['link'] = data_set['items'][0]['link']\n",
    "    movie_info['image'] = data_set['items'][0]['image']\n",
    "    result.append(movie_info)"
   ]
  },
  {
   "cell_type": "code",
   "execution_count": 14,
   "metadata": {},
   "outputs": [
    {
     "name": "stdout",
     "output_type": "stream",
     "text": [
      "[{'title': '<b>말모이</b>', 'link': 'https://movie.naver.com/movie/bi/mi/basic.nhn?code=167699', 'image': 'https://ssl.pstatic.net/imgmovie/mdi/mit110/1676/167699_P40_175859.jpg'}, {'title': '<b>주먹왕 랄프</b> 2: 인터넷 속으로', 'link': 'https://movie.naver.com/movie/bi/mi/basic.nhn?code=152632', 'image': 'https://ssl.pstatic.net/imgmovie/mdi/mit110/1526/152632_P19_104759.jpg'}, {'title': '<b>보헤미안 랩소디</b>', 'link': 'https://movie.naver.com/movie/bi/mi/basic.nhn?code=156464', 'image': 'https://ssl.pstatic.net/imgmovie/mdi/mit110/1564/156464_P49_182103.jpg'}]\n"
     ]
    }
   ],
   "source": [
    "print(result)"
   ]
  }
 ],
 "metadata": {
  "kernelspec": {
   "display_name": "Python 3",
   "language": "python",
   "name": "python3"
  },
  "language_info": {
   "codemirror_mode": {
    "name": "ipython",
    "version": 3
   },
   "file_extension": ".py",
   "mimetype": "text/x-python",
   "name": "python",
   "nbconvert_exporter": "python",
   "pygments_lexer": "ipython3",
   "version": "3.6.7"
  }
 },
 "nbformat": 4,
 "nbformat_minor": 2
}
