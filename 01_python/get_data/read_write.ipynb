{
 "cells": [
  {
   "cell_type": "code",
   "execution_count": 11,
   "metadata": {},
   "outputs": [],
   "source": [
    "import csv"
   ]
  },
  {
   "cell_type": "code",
   "execution_count": 19,
   "metadata": {},
   "outputs": [],
   "source": [
    "f_w = open('ss3.csv', 'a+', encoding='utf-8', newline='') #만들 파일 이름, 실행할 때마다 쌓임, encoding, newline 이거 고정\n",
    "\n",
    "writer = csv.writer(f_w)\n",
    "for i in range(7):\n",
    "    writer.writerow(\n",
    "        [i, i, i, i, i]\n",
    ")\n",
    "\n",
    "f_w.close()"
   ]
  },
  {
   "cell_type": "code",
   "execution_count": 22,
   "metadata": {},
   "outputs": [
    {
     "name": "stdout",
     "output_type": "stream",
     "text": [
      "['0', '0', '0', '0', '0']\n",
      "[]\n",
      "['1', '1', '1', '1', '1']\n",
      "[]\n",
      "['2', '2', '2', '2', '2']\n",
      "[]\n",
      "['3', '3', '3', '3', '3']\n",
      "[]\n",
      "['4', '4', '4', '4', '4']\n",
      "[]\n",
      "['5', '5', '5', '5', '5']\n",
      "[]\n",
      "['6', '6', '6', '6', '6']\n",
      "[]\n"
     ]
    }
   ],
   "source": [
    "f_r = open('ss3.csv', 'r', encoding='utf-8', newline='')\n",
    "reader = csv.reader(f_r)\n",
    "\n",
    "for line in reader: # line은 리스트 \n",
    "    print(line)"
   ]
  }
 ],
 "metadata": {
  "kernelspec": {
   "display_name": "Python 3",
   "language": "python",
   "name": "python3"
  },
  "language_info": {
   "codemirror_mode": {
    "name": "ipython",
    "version": 3
   },
   "file_extension": ".py",
   "mimetype": "text/x-python",
   "name": "python",
   "nbconvert_exporter": "python",
   "pygments_lexer": "ipython3",
   "version": "3.6.7"
  }
 },
 "nbformat": 4,
 "nbformat_minor": 2
}
