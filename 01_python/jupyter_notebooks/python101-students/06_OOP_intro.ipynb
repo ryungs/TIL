{
 "cells": [
  {
   "cell_type": "markdown",
   "metadata": {},
   "source": [
    "# 시작하기전에\n",
    "\n",
    "<wikipedia - 객체지향 프로그래밍> \n",
    ">\n",
    "> 객체 지향 프로그래밍(영어: Object-Oriented Programming, OOP)은 컴퓨터 프로그래밍의 패러다임의 하나이다. 객체 지향 프로그래밍은 컴퓨터 프로그램을 명령어의 목록으로 보는 시각에서 벗어나 여러 개의 독립된 단위, 즉 \"객체\"들의 모임으로 파악하고자 하는 것이다. 각각의 객체는 메시지를 주고받고, 데이터를 처리할 수 있다.\n",
    ">\n",
    "> 명령형 프로그래밍인 절차지향 프로그래밍에서 발전된 형태를 나타내며, 기본 구성요소는 다음과 같다.\n",
    "\n",
    "* 클래스(Class) - 같은 종류(또는 문제 해결을 위한)의 집단에 속하는 속성(attribute)과 행위(behavior)를 정의한 것으로 객체지향 프로그램의 기본적인 사용자 정의 데이터형(user define data type)이라고 할 수 있다. 클래스는 프로그래머가 아니지만 해결해야 할 문제가 속하는 영역에 종사하는 사람이라면 사용할 수 있고, 다른 클래스 또는 외부 요소와 독립적으로 디자인하여야 한다.\n",
    "\n",
    "\n",
    "* 인스턴스 - 클래스의 인스턴스(실제로 메모리상에 할당된 것)이다. 객체는 자신 고유의 속성(attribute)을 가지며 클래스에서 정의한 행위(behavior)를 수행할 수 있다. 객체의 행위는 클래스에 정의된 행위에 대한 정의를 공유함으로써 메모리를 경제적으로 사용한다.\n",
    "\n",
    "\n",
    "* 메서드(Method) - 클래스로부터 생성된 객체를 사용하는 방법으로서 객체에 명령을 내리는 것이라 할 수 있다. 메서드는 한 객체의 속성을 조작하는 데 사용된다."
   ]
  },
  {
   "cell_type": "code",
   "execution_count": 1,
   "metadata": {},
   "outputs": [
    {
     "name": "stdout",
     "output_type": "stream",
     "text": [
      "(-16+0j)\n",
      "(-7+24j)\n",
      "<class 'complex'>\n"
     ]
    }
   ],
   "source": [
    "# 복소수를 하나 만들어보고, 타입을 출력해봅시다.\n",
    "# 제곱했을 때 마이너스가 되는 수 = 허수\n",
    "# 제곱했을 때 마이너스가 되는 상상 속의 수가 있다고 생각한데 복소수\n",
    "img_number = 3 + 4j\n",
    "print((4j) ** 2)\n",
    "print(img_number ** 2)\n",
    "print(type(img_number))"
   ]
  },
  {
   "cell_type": "code",
   "execution_count": 2,
   "metadata": {},
   "outputs": [
    {
     "name": "stdout",
     "output_type": "stream",
     "text": [
      "3.0\n",
      "4.0\n"
     ]
    }
   ],
   "source": [
    "# 허수부랑 실수부를 함께 출력해봅시다.\n",
    "print(img_number.real) # 실수부\n",
    "print(img_number.imag) # 허수부"
   ]
  },
  {
   "cell_type": "code",
   "execution_count": 3,
   "metadata": {},
   "outputs": [
    {
     "name": "stdout",
     "output_type": "stream",
     "text": [
      "[1, 2, 3]\n"
     ]
    }
   ],
   "source": [
    "# 리스트를 하나 만들고 정렬해봅시다.\n",
    "a= [3, 2, 1]\n",
    "a.sort()\n",
    "print(a)"
   ]
  },
  {
   "cell_type": "code",
   "execution_count": 2,
   "metadata": {},
   "outputs": [
    {
     "name": "stdout",
     "output_type": "stream",
     "text": [
      "['__add__', '__class__', '__contains__', '__delattr__', '__delitem__', '__dir__', '__doc__', '__eq__', '__format__', '__ge__', '__getattribute__', '__getitem__', '__gt__', '__hash__', '__iadd__', '__imul__', '__init__', '__init_subclass__', '__iter__', '__le__', '__len__', '__lt__', '__mul__', '__ne__', '__new__', '__reduce__', '__reduce_ex__', '__repr__', '__reversed__', '__rmul__', '__setattr__', '__setitem__', '__sizeof__', '__str__', '__subclasshook__', 'append', 'clear', 'copy', 'count', 'extend', 'index', 'insert', 'pop', 'remove', 'reverse', 'sort']\n"
     ]
    }
   ],
   "source": [
    "# 리스트가 할 수 있는 것들을 알아봅시다.\n",
    "# list class 의 object 가 할 수 있는 것들을 알아봅시다. 이 두 개가 같은 말!\n",
    "print(dir(list))"
   ]
  },
  {
   "cell_type": "markdown",
   "metadata": {},
   "source": [
    "## Turtle\n",
    "> 거북이 클래스로 OOP 배우기"
   ]
  },
  {
   "cell_type": "code",
   "execution_count": 4,
   "metadata": {},
   "outputs": [],
   "source": [
    "import turtle"
   ]
  },
  {
   "cell_type": "code",
   "execution_count": 5,
   "metadata": {},
   "outputs": [
    {
     "data": {
      "text/plain": [
       "<turtle._Screen at 0x25b06ebf860>"
      ]
     },
     "execution_count": 5,
     "metadata": {},
     "output_type": "execute_result"
    }
   ],
   "source": [
    "turtle.Screen()"
   ]
  },
  {
   "cell_type": "code",
   "execution_count": 4,
   "metadata": {},
   "outputs": [
    {
     "name": "stdout",
     "output_type": "stream",
     "text": [
      "유태영 님에게 제출 하였습니다.\n",
      "휴지통 님에게 제출 하였습니다.\n",
      "0\n"
     ]
    }
   ],
   "source": [
    "class Form:\n",
    "    name = ''\n",
    "    age = 0\n",
    "    phone = ''\n",
    "    intro = ''\n",
    "    def submit(self, teacher):\n",
    "        print(f'{teacher} 님에게 제출 하였습니다.')\n",
    "        \n",
    "form_neo = Form()\n",
    "form_neo.name ='곽동령'\n",
    "form_neo.age = 27\n",
    "form_neo.phone = '0101234568'\n",
    "form_neo.intro = 'ssafy'\n",
    "form_neo.submit('유태영')\n",
    "\n",
    "form_some = Form()\n",
    "form_some.name = '아무개'\n",
    "form_some.submit('휴지통')\n",
    "\n",
    "print(form_some.age) # 도장을 이미 찍었기 때문에 age를 안넣은 아무개의 나이도 0으로 나오는 것이다"
   ]
  },
  {
   "cell_type": "markdown",
   "metadata": {},
   "source": [
    "## 실습 문제\n",
    "\n",
    "> 프로그래밍으로 나와 친구의 이름을 저장해보세요.\n",
    ">\n",
    "\n",
    "**각자의 명함과 지갑을 만들어봅시다.**\n",
    "\n",
    "* 내 생일, 전화번호, 이메일주소 정보를 담은 변수를 확인해봅시다.\n",
    "\n",
    "* 주머니(pocket)에는 돈(won)을 포함하여 현재 가지고 있는 것을 작성해보세요.\n",
    "\n",
    "* 나는 인사를 하면서 내 명함에 있는 정보 하나를 이야기합니다. `greeting` 함수를 만듭시다.\n",
    "\n",
    "* 나는 주머니에 원하는 것과 갯수를 지정하여 넣을 수 있습니다. \n",
    "\n",
    "  기존에 값이 있으면, 갯수를 추가하고 없으면 새로 만드는 `in_my_pocket` 함수를 만듭시다.\n",
    "  \n",
    "**친구의 정보와 지갑도 만들어봅시다.**"
   ]
  },
  {
   "cell_type": "code",
   "execution_count": 1,
   "metadata": {},
   "outputs": [
    {
     "name": "stdout",
     "output_type": "stream",
     "text": [
      "Hi! 내 이름은 곽동령이고 번호는 01012345678 email은 abcd@naver.com\n"
     ]
    },
    {
     "data": {
      "text/plain": [
       "{'money': 1000, 'card': 7}"
      ]
     },
     "execution_count": 1,
     "metadata": {},
     "output_type": "execute_result"
    }
   ],
   "source": [
    "# 아래에 자유롭게 코드를 작성해보세요.\n",
    "my_info = {\n",
    "    'name': '곽동령', \n",
    "    'phone': '01012345678', \n",
    "    'email': 'abcd@naver.com'\n",
    "}\n",
    "\n",
    "my_pocket = {\n",
    "    'money': 1000,\n",
    "    'card': 3\n",
    "}\n",
    "\n",
    "\n",
    "def greeting(info):\n",
    "    print(f'Hi! 내 이름은 {info[\"name\"]}이고 번호는 {info[\"phone\"]} email은 {info[\"email\"]}')\n",
    "          \n",
    "greeting(my_info)\n",
    "\n",
    "def in_my_pocket(pocket, stuff, count):\n",
    "          \n",
    "          if pocket.get(stuff):\n",
    "              pocket[stuff] += count\n",
    "          else:\n",
    "              pocket[stuff] = count\n",
    "          return pocket\n",
    "\n",
    "in_my_pocket(my_pocket, 'card', 4)"
   ]
  },
  {
   "cell_type": "code",
   "execution_count": 35,
   "metadata": {},
   "outputs": [
    {
     "name": "stdout",
     "output_type": "stream",
     "text": [
      "안녕하세요, 제 이름은 곽동령입니다\n",
      "화장실에 간다.\n",
      "출석을 찍는다.\n",
      "물을 뜬다.\n"
     ]
    }
   ],
   "source": [
    "# 세명의 정보를 받기\n",
    "\n",
    "mates = {\n",
    "    'dr' : {\n",
    "        'name': '곽동령',  \n",
    "        'github': 'ryungs',\n",
    "        'blood_type' : 'A형',\n",
    "        'phone' : '010123456'\n",
    "    \n",
    "    },\n",
    "\n",
    "    'yurim' : {\n",
    "        'name': '이유림',\n",
    "        'github': 'yurimida',\n",
    "        'blood_type': 'A형',\n",
    "        'phone' : '0105566778',\n",
    "    \n",
    "    },\n",
    "\n",
    "    'jiwon' : {\n",
    "        'name' : '백지원',\n",
    "    'github' : 'helloddkd',\n",
    "    'blood_type':'B형',\n",
    "    'phone' : '010678343',\n",
    "\n",
    "    }\n",
    "    \n",
    "}\n",
    "\n",
    "print(f'안녕하세요, 제 이름은 {mates[\"dr\"][\"name\"]}입니다')\n",
    "\n",
    "def arrive_dr(x):\n",
    "        print('화장실에 간다.')\n",
    "        print('출석을 찍는다.')\n",
    "        print('물을 뜬다.')\n",
    "\n",
    "\n",
    "\n",
    "arrive_dr(mates['dr'])"
   ]
  },
  {
   "cell_type": "code",
   "execution_count": 41,
   "metadata": {
    "scrolled": true
   },
   "outputs": [
    {
     "name": "stdout",
     "output_type": "stream",
     "text": [
      "안녕하세요! 제 이름은 곽동령 입니다.\n",
      "제 github id는 ryungs이고, 혈액형은 A형 입니다.\n",
      "곽동령 은(는) 도착하면 물 을(를) 마십니다.\n",
      "3 703\n",
      "---------------\n",
      "안녕하세요! 제 이름은 이유림 입니다.\n",
      "제 github id는 yurimida이고, 혈액형은 A형 입니다.\n",
      "이유림 은(는) 도착하면 물 을(를) 마십니다.\n",
      "3 703\n"
     ]
    }
   ],
   "source": [
    "class Mate:\n",
    "    classroom = 703 # mate들에게 모두 공통으로 적용되는 정보는 def 위에다가 적어주면 된다.\n",
    "    ban = 3\n",
    "    breath = True\n",
    "    \n",
    "    def __init__(self, name, github, blood, arrive):\n",
    "        self.name = name\n",
    "        self.blood = blood\n",
    "        self.github = github\n",
    "        self.arrive = arrive\n",
    "        \n",
    "    def intro(self):\n",
    "        print(f'안녕하세요! 제 이름은 {self.name} 입니다.')\n",
    "        print(f'제 github id는 {self.github}이고, 혈액형은 {self.blood}형 입니다.')\n",
    "        \n",
    "    def dochak(self):\n",
    "        print(f'{self.name} 은(는) 도착하면 {self.arrive} 을(를) 마십니다.')\n",
    "        \n",
    "dhongryung = Mate('곽동령', 'ryungs', 'A', '물')\n",
    "dhongryung.intro()\n",
    "dhongryung.dochak()\n",
    "print(dhongryung.ban, dhongryung.classroom) \n",
    "print('---------------')\n",
    "\n",
    "yurim = Mate('이유림', 'yurimida', 'A', '물')\n",
    "yurim.intro()\n",
    "yurim.dochak()\n",
    "print(yurim.ban, yurim.classroom)"
   ]
  },
  {
   "cell_type": "code",
   "execution_count": null,
   "metadata": {},
   "outputs": [
    {
     "name": "stdout",
     "output_type": "stream",
     "text": [
      "A santa at NASA\n",
      "True\n"
     ]
    }
   ],
   "source": [
    "class Text:\n",
    "    content =\"\"\n",
    "    \n",
    "    def __init__(self, content):\n",
    "        self.content = content\n",
    "      \n",
    "    def is_palindrome(self):\n",
    "        txt = self.content.replace(' ','').lower()\n",
    "        return txt == ''.join(reversed(txt))\n",
    "    \n",
    "    def start_hangman(self):\n",
    "        guess = input('한글자만 넣어라')\n",
    "        if guess in self.content:\n",
    "            print('오 맞음!')\n",
    "            return True\n",
    "        \n",
    "        else:\n",
    "            print('ㅋㅋㅋㅋ')\n",
    "            return False\n",
    "my_text = Text('A santa at NASA')\n",
    "\n",
    "print(my_text.content)\n",
    "print(my_text.is_palindrome()) # True\n",
    "\n",
    "Text('apple').start_hangman()"
   ]
  },
  {
   "cell_type": "code",
   "execution_count": null,
   "metadata": {},
   "outputs": [],
   "source": [
    "# in_my_pocket 함수를 통해 내 주머니에 내용을 추가해봅시다."
   ]
  },
  {
   "cell_type": "code",
   "execution_count": null,
   "metadata": {},
   "outputs": [],
   "source": [
    "# greeting 함수를 통해 인사를 해봅시다.\n",
    "#=> 안녕, kim이야. 01012345678"
   ]
  },
  {
   "cell_type": "markdown",
   "metadata": {},
   "source": [
    "# 클래스 및 인스턴스"
   ]
  },
  {
   "cell_type": "markdown",
   "metadata": {},
   "source": [
    "## 클래스 객체\n",
    "\n",
    "```python\n",
    "class ClassName:\n",
    "    \n",
    "```\n",
    "\n",
    "* 선언과 동시에 클래스 객체가 생성됨.\n",
    "\n",
    "* 또한, 선언된 공간은 지역 스코프로 사용된다.\n",
    "\n",
    "* 정의된 어트리뷰트 중 변수는 멤버 변수로 불리운다.\n",
    "\n",
    "* 정의된 함수(`def`)는 메서드로 불리운다."
   ]
  },
  {
   "cell_type": "code",
   "execution_count": 1,
   "metadata": {},
   "outputs": [
    {
     "name": "stdout",
     "output_type": "stream",
     "text": [
      "<class 'type'>\n",
      "<class '__main__.TestClass'>\n",
      "\n",
      "    This is TestClass\n",
      "    \n"
     ]
    }
   ],
   "source": [
    "# Class를 만들어봅시다.\n",
    "# Class는 Upper Camel Case로 구분한다\n",
    "class TestClass:\n",
    "    \"\"\"\n",
    "    This is TestClass\n",
    "    \"\"\"\n",
    "    \n",
    "print(type(TestClass))\n",
    "\n",
    "tc = TestClass()\n",
    "print(type(tc))\n",
    "print(tc.__doc__) # 주석처리 된 숨겨진 글을 보여준다"
   ]
  },
  {
   "cell_type": "code",
   "execution_count": 5,
   "metadata": {},
   "outputs": [
    {
     "name": "stdout",
     "output_type": "stream",
     "text": [
      "HELLO!\n",
      "I am 홍길동\n"
     ]
    }
   ],
   "source": [
    "# Person 클래스를 만들어봅시다.\n",
    "class Person:\n",
    "    name = '홍길동' # 이렇게 쓰면 밑에 있는 모든 사람의  name은 모두 홍길동이 된다. \n",
    "    \n",
    "    def say_hi(self):\n",
    "        print('HELLO!')\n",
    "    \n",
    "    def intro(self):\n",
    "        print(f'I am {self.name}') # 그냥 {name} 적으면 안됨!!\n",
    "\n",
    "p = Person()\n",
    "p.say_hi()\n",
    "p.intro()"
   ]
  },
  {
   "cell_type": "markdown",
   "metadata": {},
   "source": [
    "* 선언시 self는 반드시 작성해주세요! 나중에 설명드립니다."
   ]
  },
  {
   "cell_type": "markdown",
   "metadata": {},
   "source": [
    "## 인스턴스 객체\n",
    "\n",
    "* 인스턴스 객체는 `ClassName()`을 호출함으로써 선언된다.\n",
    "\n",
    "* 인스턴스 객체와 클래스 객체는 서로 다른 이름 공간을 가지고 있다.\n",
    "\n",
    "* 인스턴스 -> 클래스 -> 전역 순으로 탐색을 한다."
   ]
  },
  {
   "cell_type": "code",
   "execution_count": 6,
   "metadata": {},
   "outputs": [],
   "source": [
    "# 클래스 Person에 인스턴스 'iu' 를 만들어봅시다. \n",
    "iu = Person()"
   ]
  },
  {
   "cell_type": "code",
   "execution_count": 7,
   "metadata": {},
   "outputs": [
    {
     "name": "stdout",
     "output_type": "stream",
     "text": [
      "HELLO!\n"
     ]
    }
   ],
   "source": [
    "# 인사하는 메서드를 호출해봅시다.\n",
    "iu.say_hi()"
   ]
  },
  {
   "cell_type": "code",
   "execution_count": 8,
   "metadata": {},
   "outputs": [
    {
     "data": {
      "text/plain": [
       "'홍길동'"
      ]
     },
     "execution_count": 8,
     "metadata": {},
     "output_type": "execute_result"
    }
   ],
   "source": [
    "# iu의 이름을 확인해봅시다.\n",
    "iu.name"
   ]
  },
  {
   "cell_type": "code",
   "execution_count": 9,
   "metadata": {},
   "outputs": [
    {
     "name": "stdout",
     "output_type": "stream",
     "text": [
      "IU\n"
     ]
    }
   ],
   "source": [
    "# iu로 이름을 바꿔주세요.\n",
    "iu.name = 'IU'\n",
    "print(iu.name)"
   ]
  },
  {
   "cell_type": "code",
   "execution_count": 10,
   "metadata": {},
   "outputs": [
    {
     "name": "stdout",
     "output_type": "stream",
     "text": [
      "I am IU\n"
     ]
    }
   ],
   "source": [
    "# iu가 인사를 합니다.\n",
    "iu.intro()"
   ]
  },
  {
   "cell_type": "code",
   "execution_count": 12,
   "metadata": {},
   "outputs": [
    {
     "name": "stdout",
     "output_type": "stream",
     "text": [
      "True\n",
      "True\n"
     ]
    }
   ],
   "source": [
    "# iu와 Person이 같은지 확인해보겠습니다.\n",
    "print(isinstance(iu, Person))\n",
    "\n",
    "print(isinstance([], list))\n",
    "\n",
    "# if isinstance(user_input, str): 이거 자체가 True, False 이므로  if 문에 쓸 수 있다.\n",
    "    "
   ]
  },
  {
   "cell_type": "code",
   "execution_count": 14,
   "metadata": {},
   "outputs": [
    {
     "name": "stdout",
     "output_type": "stream",
     "text": [
      "True\n",
      "True\n"
     ]
    }
   ],
   "source": [
    "# iu와 Person이 같은지 확인해보겠습니다.\n",
    "print(type(iu) == Person)\n",
    "print(type('a') == str)"
   ]
  },
  {
   "cell_type": "code",
   "execution_count": 15,
   "metadata": {},
   "outputs": [
    {
     "name": "stdout",
     "output_type": "stream",
     "text": [
      "<__main__.Person object at 0x000002654D117438>\n"
     ]
    }
   ],
   "source": [
    "# iu를 출력해봅시다.\n",
    "print(iu)"
   ]
  },
  {
   "cell_type": "code",
   "execution_count": 16,
   "metadata": {},
   "outputs": [
    {
     "data": {
      "text/plain": [
       "<__main__.Person at 0x2654d117438>"
      ]
     },
     "execution_count": 16,
     "metadata": {},
     "output_type": "execute_result"
    }
   ],
   "source": [
    "# iu를 출력해봅시다 2.\n",
    "iu"
   ]
  },
  {
   "cell_type": "code",
   "execution_count": 17,
   "metadata": {},
   "outputs": [
    {
     "data": {
      "text/plain": [
       "__main__.Person"
      ]
     },
     "execution_count": 17,
     "metadata": {},
     "output_type": "execute_result"
    }
   ],
   "source": [
    "# type을 확인해봅시다.\n",
    "type(iu)"
   ]
  },
  {
   "cell_type": "markdown",
   "metadata": {},
   "source": [
    "* 파이썬 출력의 비밀 : repr, str"
   ]
  },
  {
   "cell_type": "code",
   "execution_count": 19,
   "metadata": {},
   "outputs": [],
   "source": [
    "# 강다니엘을 만들어봅시다.\n",
    "강다니엘 = Person()"
   ]
  },
  {
   "cell_type": "code",
   "execution_count": 20,
   "metadata": {},
   "outputs": [
    {
     "name": "stdout",
     "output_type": "stream",
     "text": [
      "<__main__.Person object at 0x000002654D3980B8> 홍길동\n",
      "Daniel\n"
     ]
    }
   ],
   "source": [
    "# 강다니엘을 출력해봅시다.\n",
    "print(강다니엘, 강다니엘.name)\n",
    "강다니엘.name = 'Daniel'\n",
    "print(강다니엘.name)"
   ]
  },
  {
   "cell_type": "markdown",
   "metadata": {},
   "source": [
    "## 실습 문제 발전\n",
    "\n",
    "> 지금까지 배운 것을 통해서 Person 클래스를 만들고, 친구와 나를 표현해봅시다.\n",
    ">\n",
    "> 주머니와 정보를 가지고 있고 (멤버 변수)\n",
    "> \n",
    "> 인사(`greeting()`)와 주머니에 내용을 추가(`in_my_pocket()`)할 수 있습니다. (메서드)\n",
    ">\n",
    "> 추가적으로 `get_my_pocket()`으로 지갑에 담긴 정보를 가져와 봅시다.\n",
    ">\n",
    "> 그리고 사람을 출력하면, 지갑을 제외한 정보를 보여줘보세요. "
   ]
  },
  {
   "cell_type": "code",
   "execution_count": null,
   "metadata": {},
   "outputs": [],
   "source": [
    "# 아래에 코드를 작성해주세요.   "
   ]
  },
  {
   "cell_type": "markdown",
   "metadata": {},
   "source": [
    "## MyList만들기\n",
    "\n",
    "> 이제 배운 것을 활용하여 나만의 리스트 객체를 만들 수 있습니다. \n",
    ">\n",
    "> `class MyList:`\n",
    ">\n",
    "\n",
    "```\n",
    "* 변수\n",
    "data : 비어 있는 리스트\n",
    "\n",
    "* 메서드 \n",
    "append : 값을 받아 추가합니다.\n",
    "pop : 마지막에 있는 값을 없애고, 해당 값을 리턴합니다.\n",
    "reverse : 제자리에서 뒤집고 리턴 값은 없습니다.\n",
    "count(x) : x의 갯수를 반환합니다.\n",
    "clear : 값을 모두 삭제합니다.\n",
    "\n",
    "__repr__ : ex) '리스트 내용 1, 2, 3'\n",
    "```"
   ]
  },
  {
   "cell_type": "code",
   "execution_count": null,
   "metadata": {},
   "outputs": [],
   "source": [
    "# 아래에 코드를 작성해주세요."
   ]
  },
  {
   "cell_type": "markdown",
   "metadata": {},
   "source": [
    "## 자유롭게 만들어보기\n",
    "\n",
    "> 피카츄 게임 코드 만들기"
   ]
  },
  {
   "cell_type": "code",
   "execution_count": null,
   "metadata": {},
   "outputs": [],
   "source": [
    "# 아래에 코드를 작성해주세요.\n",
    "class Pokemon:\n",
    "    def __init__(self, name, level): #포켓몬 객체가 태어날 때 무언가를 지정해주는 함수 init\n",
    "        self.name = name # 누가 될지 모르겠지만 객체의 이름을 지정해주는거 self\n",
    "        self.level = level\n",
    "        self.hp = level * 10\n",
    "    \n",
    "    def set_hp(self, point):\n",
    "        self.hp += point\n",
    "    \n",
    "    def check_status(self): # def의 이름을 최대한 동사로 쓰는 이유는 메서드 자체가 행동! 동사의 형태를 뜻하기 때문이다\n",
    "        if self.hp > 0:\n",
    "            return True\n",
    "        else:\n",
    "            return False\n",
    "    \n",
    "    def body_attack(self, enemy):\n",
    "        enemy.set_hp(-10)\n",
    "        \n",
    "    def volt_attack(self, enemy):\n",
    "        enemt.set_hp(-15)\n",
    "        \n",
    "a = Pokemon('피카츄1', 10)\n",
    "b = Pokemon('피카츄2', 9)\n",
    "\n",
    "\n",
    "if a.check_status():\n",
    "    a.body_attack(b)\n",
    "    print(b.hp)\n",
    "    \n",
    "else:\n",
    "    print(f'{b.name}의 승리!')\n",
    "\n",
    "import random\n",
    "while a.check_status and b.check_status: # 둘 다 살아 있는 동안에 게임을 시작하지\n",
    "    "
   ]
  },
  {
   "cell_type": "code",
   "execution_count": null,
   "metadata": {},
   "outputs": [],
   "source": [
    "import random\n",
    "class Pikachu(Pokemon): # 위에 있는 class를 상속받고 싶으면 새로운 클래스 () 안에 위에 정한 클래스 값을 그대로 받을 수 있다\n",
    "    type = ('elec')\n",
    "    def body_attack(self, enemy):\n",
    "        enemy.set_hp(-1 * level)\n",
    "        \n",
    "    def volt_attack(self, enemy):\n",
    "        if 'water' in enemy.type:\n",
    "            print('효과는 굉장했다!')\n",
    "            \n",
    "        enemt.set_hp(-15)\n",
    "        \n",
    "        "
   ]
  },
  {
   "cell_type": "code",
   "execution_count": null,
   "metadata": {},
   "outputs": [],
   "source": [
    "##### pokemon game\n",
    "# my code\n",
    "\n",
    "import random\n",
    "# main function\n",
    "def main():\n",
    "    print('             _                              ')\n",
    "    print('            | |                             ')\n",
    "    print(' _ __   ___ | | _____ _ __ ___   ___  _ __  ')\n",
    "    print('| \"_ \\ / _ \\| |/ / _ \\ \"_ ` _ \\ / _ \\| \"_ \\ ')\n",
    "    print('| |_) | (_) |   <  __/ | | | | | (_) | | | |')\n",
    "    print('| .__/ \\___/|_|\\_\\___|_| |_| |_|\\___/|_| |_|')\n",
    "    print('| |                                         ')\n",
    "    print('|_|                                         ')\n",
    "    print()\n",
    "    \n",
    "    print('로켓단이 승부를 걸어왔습니다.')\n",
    "    user_pokemon = input('피카츄, 꼬부기, 파이리 중 포켓몬을 선택하세요! ')\n",
    "    pokemon = ['피카츄', '꼬부기', '파이리']\n",
    "    rocketdan = ['마자용', '냐옹이', '또도가스']\n",
    "    enemy_pokemon = random.choice(rocketdan)\n",
    "    print('상대는', enemy_pokemon, '입니다!')\n",
    "    \n",
    "    # battle statement\n",
    "    print()\n",
    "    print('체육관에서 전투를 시작합니다!')\n",
    "    \n",
    "    # call battle function, pass these two variable:\n",
    "    battle(user_pokemon, enemy_pokemon)\n",
    "\n",
    "# battle function\n",
    "def battle(user_pokemon, enemy_pokemon):\n",
    "    attacks = ['몸통박치기', '독가스', '마구햘퀴기', '꼬리흔들기']\n",
    "    \n",
    "    # pokemon health\n",
    "    user_health = 100\n",
    "    enemy_health = 100\n",
    "    \n",
    "    # check to see if the fight is still going on\n",
    "    fight = True\n",
    "    while fight == True:\n",
    "        print()\n",
    "        print('가랏!' ,user_pokemon, ': 1. 몸통박치기 2. 물대포발사 3. 백만볼트 4. 화염공격 5. 꼬리흔들기' )\n",
    "        fight = int(input('공격을 선택하세요!'))\n",
    "        print()\n",
    "        \n",
    "        if fight == 1:\n",
    "            enemy_health = enemy_health - 10\n",
    "            print(enemy_pokemon, '의 방어력이 20 감소했습니다!')\n",
    "        elif fight == 2:\n",
    "            enemy_health = enemy_health - 25\n",
    "            print(enemy_pokemon, '의 방어력이 25 감소했습니다!')\n",
    "        elif fight == 3:\n",
    "            enemy_health = enemy_health - 30\n",
    "            print(enemy_pokemon, '의 방어력이 30 감소했습니다!')\n",
    "        elif fight == 4:\n",
    "            enemy_health = enemy_health - 25\n",
    "            print(enemy_pokemon, '의 방어력이 25 감소했습니다!')\n",
    "        elif fight == 5:\n",
    "            enemy_health = enemy_health - 15\n",
    "            print(enemy_pokemon, '의 방어력이 15 감소했습니다!')\n",
    "        \n",
    "        enemy_battle = random.choice(attacks)\n",
    "        user_health = user_health - (random.randint(10,20))\n",
    "        print(enemy_pokemon, '(이)가', enemy_battle, '를(을) 사용했습니다', user_pokemon,'의 방어력은', user_health, '만큼 남았습니다!')\n",
    "        \n",
    "        print()\n",
    "        if user_health < 0:\n",
    "            fight = False\n",
    "            print('패배! 경험치를 더 쌓아서 오세요ㅜㅜ')\n",
    "            \n",
    "        elif enemy_health < 0:\n",
    "            fight = False\n",
    "            print('승리! 포켓볼을 이용해 상대 포켓몬을 획득했습니다.')\n",
    "        else:\n",
    "            fight = True\n",
    "              \n",
    "main()"
   ]
  }
 ],
 "metadata": {
  "kernelspec": {
   "display_name": "Python 3",
   "language": "python",
   "name": "python3"
  },
  "language_info": {
   "codemirror_mode": {
    "name": "ipython",
    "version": 3
   },
   "file_extension": ".py",
   "mimetype": "text/x-python",
   "name": "python",
   "nbconvert_exporter": "python",
   "pygments_lexer": "ipython3",
   "version": "3.6.7"
  },
  "latex_envs": {
   "LaTeX_envs_menu_present": true,
   "autoclose": false,
   "autocomplete": true,
   "bibliofile": "biblio.bib",
   "cite_by": "apalike",
   "current_citInitial": 1,
   "eqLabelWithNumbers": true,
   "eqNumInitial": 1,
   "hotkeys": {
    "equation": "Ctrl-E",
    "itemize": "Ctrl-I"
   },
   "labels_anchors": false,
   "latex_user_defs": false,
   "report_style_numbering": false,
   "user_envs_cfg": false
  },
  "toc": {
   "base_numbering": 1,
   "nav_menu": {},
   "number_sections": true,
   "sideBar": true,
   "skip_h1_title": false,
   "title_cell": "Table of Contents",
   "title_sidebar": "Contents",
   "toc_cell": false,
   "toc_position": {},
   "toc_section_display": true,
   "toc_window_display": false
  }
 },
 "nbformat": 4,
 "nbformat_minor": 2
}
