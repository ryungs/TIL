{
 "cells": [
  {
   "cell_type": "code",
   "execution_count": 58,
   "metadata": {},
   "outputs": [],
   "source": [
    "key = '' # key 값 노출시키지 말기\n",
    "weekly = ['20181111', '20181118', '20181125', '20181202','20191209' '20181216', '20181223', '20181230', '20190106', '20190113']\n",
    "URL = f'http://www.kobis.or.kr/kobisopenapi/webservice/rest/boxoffice/searchWeeklyBoxOfficeList.json?key={key}&targetDt={weekly}&weekGb=0'\n"
   ]
  },
  {
   "cell_type": "code",
   "execution_count": 75,
   "metadata": {},
   "outputs": [
    {
     "name": "stdout",
     "output_type": "stream",
     "text": [
      "['http://www.kobis.or.kr/kobisopenapi/webservice/rest/boxoffice/searchWeeklyBoxOfficeList.json?key=10438e83037003ef6197b6b8b864d8db&targetDt=20190113&weekGb=0', 'http://www.kobis.or.kr/kobisopenapi/webservice/rest/boxoffice/searchWeeklyBoxOfficeList.json?key=10438e83037003ef6197b6b8b864d8db&targetDt=20190106&weekGb=0', 'http://www.kobis.or.kr/kobisopenapi/webservice/rest/boxoffice/searchWeeklyBoxOfficeList.json?key=10438e83037003ef6197b6b8b864d8db&targetDt=20181230&weekGb=0', 'http://www.kobis.or.kr/kobisopenapi/webservice/rest/boxoffice/searchWeeklyBoxOfficeList.json?key=10438e83037003ef6197b6b8b864d8db&targetDt=20181223&weekGb=0', 'http://www.kobis.or.kr/kobisopenapi/webservice/rest/boxoffice/searchWeeklyBoxOfficeList.json?key=10438e83037003ef6197b6b8b864d8db&targetDt=20181216&weekGb=0', 'http://www.kobis.or.kr/kobisopenapi/webservice/rest/boxoffice/searchWeeklyBoxOfficeList.json?key=10438e83037003ef6197b6b8b864d8db&targetDt=20181209&weekGb=0', 'http://www.kobis.or.kr/kobisopenapi/webservice/rest/boxoffice/searchWeeklyBoxOfficeList.json?key=10438e83037003ef6197b6b8b864d8db&targetDt=20181202&weekGb=0', 'http://www.kobis.or.kr/kobisopenapi/webservice/rest/boxoffice/searchWeeklyBoxOfficeList.json?key=10438e83037003ef6197b6b8b864d8db&targetDt=20181125&weekGb=0', 'http://www.kobis.or.kr/kobisopenapi/webservice/rest/boxoffice/searchWeeklyBoxOfficeList.json?key=10438e83037003ef6197b6b8b864d8db&targetDt=20181118&weekGb=0', 'http://www.kobis.or.kr/kobisopenapi/webservice/rest/boxoffice/searchWeeklyBoxOfficeList.json?key=10438e83037003ef6197b6b8b864d8db&targetDt=20181111&weekGb=0']\n"
     ]
    }
   ],
   "source": [
    "key = ''# key 값 노출시키지 말기\n",
    "weekly = ['20190113', '20190106', '20181230', '20181223','20181216','20181209', '20181202', '20181125', '20181118', '20181111']\n",
    "\n",
    "\n",
    "url_list = [f'http://www.kobis.or.kr/kobisopenapi/webservice/rest/boxoffice/searchWeeklyBoxOfficeList.json?key={key}&targetDt={i}&weekGb=0' for i in weekly]\n",
    "    \n",
    "print(url_list)"
   ]
  },
  {
   "cell_type": "code",
   "execution_count": 62,
   "metadata": {
    "scrolled": false
   },
   "outputs": [],
   "source": [
    "import requests\n",
    "\n",
    "# raw_data = requests.get(URL)\n",
    "# data = raw_data.json()\n",
    "\n",
    "data =  requests.get(URL).json()\n",
    "data_info = data['boxOfficeResult']['weeklyBoxOfficeList']\n",
    "data_day = data['boxOfficeResult']['showRange']\n"
   ]
  },
  {
   "cell_type": "code",
   "execution_count": 128,
   "metadata": {
    "scrolled": true
   },
   "outputs": [
    {
     "name": "stdout",
     "output_type": "stream",
     "text": [
      "['20184105', '말모이', '1185368', '20190113', '20176251', '내안의 그놈', '765383', '20190113', '20189463', '주먹왕 랄프 2: 인터넷 속으로', '1342315', '20190113', '20180290', '아쿠아맨', '4920735', '20190113', '20183915', '극장판 공룡메카드: 타이니소어의 섬', '289873', '20190113', '20185485', '보헤미안 랩소디', '9785643', '20190113', '20184574', '그린 북', '99569', '20190113', '20186281', '범블비', '1553491', '20190113', '20170658', 'PMC: 더 벙커', '1665204', '20190113', '20175547', '스윙키즈', '1462874', '20190113', '20183785', '점박이 한반도의 공룡2 : 새로운 낙원', '521053', '20190106', '20184187', '언니', '172340', '20190106', '20182421', '그린치', '543815', '20190106', '20168773', '마약왕', '1787838', '20181230', '20183479', '극장판 짱구는 못말려: 아뵤! 쿵후 보이즈 ~라면 대란~', '259753', '20181230', '20183238', '스파이더맨: 뉴 유니버스', '628327', '20181230', '20177552', '국가부도의 날', '3723915', '20181223', '20179230', '도어락', '1546002', '20181223', '20183375', '극장판 포켓몬스터 모두의 이야기', '86997', '20181223', '20189843', '호두까기 인형과 4개의 왕국', '408425', '20181216', '20182082', '부탁 하나만 들어줘', '87501', '20181216', '20178825', '모털 엔진', '262070', '20181216', '20183745', '런닝맨 : 풀룰루의 역습', '180709', '20181216', '20177538', '완벽한 타인', '5270621', '20181216', '20184481', '성난황소', '1567264', '20181209', '20181905', '후드', '276658', '20181209', '20176814', '신비한 동물들과 그린델왈드의 범죄', '2403686', '20181209', '20183073', '베일리 어게인', '78439', '20181202', '20181171', '바울', '229837', '20181202', '20183007', '거미줄에 걸린 소녀', '25172', '20181202', '20182966', '투 프렌즈', '20419', '20181202', '20183050', '번 더 스테이지: 더 무비', '298402', '20181125', '20182935', '출국', '71407', '20181125', '20182669', '툴리', '24325', '20181125', '20186822', '너의 췌장을 먹고 싶어', '48910', '20181125', '20170513', '동네사람들', '445625', '20181118', '20189869', '해피 투게더', '15745', '20181118', '20174981', '창궐', '1588443', '20181111', '20010291', '해리포터와 마법사의 돌', '259733', '20181111', '20179006', '여곡성', '55997', '20181111', '20181404', '벽 속에 숨은 마법시계', '211233', '20181111', '20180523', '스타 이즈 본', '458917', '20181111', '20182693', '구스범스: 몬스터의 역습', '21400', '20181111']\n"
     ]
    }
   ],
   "source": [
    "import requests\n",
    "import csv\n",
    "\n",
    "key = ''  # key 값 노출시키지 말기\n",
    "weekly = ['20190113', '20190106', '20181230', '20181223','20181216','20181209', '20181202', '20181125', '20181118', '20181111']\n",
    "\n",
    "\n",
    "url_list = [f'http://www.kobis.or.kr/kobisopenapi/webservice/rest/boxoffice/searchWeeklyBoxOfficeList.json?key={key}&targetDt={date}&weekGb=0' for date in weekly]\n",
    "    \n",
    "\n",
    "movie_list2 = []\n",
    "\n",
    "\n",
    "for x in url_list:\n",
    "    data =  requests.get(x).json()\n",
    "    data_info = data['boxOfficeResult']['weeklyBoxOfficeList']\n",
    "    data_day = data['boxOfficeResult']['showRange']\n",
    "\n",
    "\n",
    "    for i in range(0, 10):\n",
    "         if data_info[i]['movieCd'] not in movie_list2:\n",
    "                movie_list2 += [data_info[i]['movieCd'], data_info[i]['movieNm'], data_info[i]['audiAcc'],data_day[9:]]\n",
    "\n",
    "a = len(movie_list2) / 4\n",
    "\n",
    "for i in range(int(a)):    \n",
    "    b = movie_list2[4 * i: 4 * (i + 1)]\n",
    "    f = open('boxoffice.csv', 'a+', encoding='utf-8', newline='')\n",
    "    writer = csv.writer(f)\n",
    "\n",
    "    writer.writerow(\n",
    "        b\n",
    "    )\n",
    "\n",
    "    f.close\n",
    "\n",
    "# print(movie_list2)\n",
    "\n",
    "# f_w = open('boxoffice.csv', 'a', encoding='utf-8', newline='') #만들 파일 이름, 실행할 때마다 쌓임, encoding, newline 이거 고정\n",
    "\n",
    "# writer = csv.writer(f_w)\n",
    "\n",
    "# writer.writerow(movie_list2)\n",
    "\n",
    "# f_w.close()\n",
    "\n",
    "\n",
    "#         results = {'movie_code':data_info[i]['movieCd'],\n",
    "#                    'movie_name':data_info[i]['movieNm'],\n",
    "#                    'audience':data_info[i]['audiAcc'],\n",
    "#                    'movie_day':data_day[9:]\n",
    "#         }\n",
    "\n",
    "#         if data_info[i]['movieCd'] not in movie_list2:\n",
    "#             movie_list2.append(results['movie_code'])\n",
    "#             movie_list2.append(results['movie_name'])\n",
    "#             movie_list2.append(results['audience'])\n",
    "#             movie_list2.append(results['movie_day'])\n",
    "\n",
    "\n",
    "#             movie_list.append(results['movie_code'])\n",
    "#             movie_list.append(results['movie_name'])\n",
    "#             movie_list.append(results['audience'])\n",
    "#             movie_list.append(results['movie_day'])\n",
    "\n",
    "#         else:\n",
    "#             pass\n",
    "\n",
    "# for i in range(43):\n",
    "f_w = open('boxoffice.csv', 'a', encoding='utf-8', newline='') #만들 파일 이름, 실행할 때마다 쌓임, encoding, newline 이거 고정\n",
    "\n",
    "writer = csv.writer(f_w)\n",
    "\n",
    "    writer.writerow(movie_list2)\n",
    "\n",
    "f_w.close()\n",
    "                 "
   ]
  },
  {
   "cell_type": "code",
   "execution_count": 91,
   "metadata": {},
   "outputs": [
    {
     "name": "stdout",
     "output_type": "stream",
     "text": [
      "20182693\n"
     ]
    }
   ],
   "source": [
    "print(data_info[i]['movieCd'])"
   ]
  },
  {
   "cell_type": "code",
   "execution_count": null,
   "metadata": {},
   "outputs": [],
   "source": [
    "# URL = f'http://www.kobis.or.kr/kobisopenapi/webservice/rest/boxoffice/searchWeeklyBoxOfficeList.json?key={key}&targetDt=20190106&weekGb=0'\n",
    "# URL = f'http://www.kobis.or.kr/kobisopenapi/webservice/rest/boxoffice/searchWeeklyBoxOfficeList.json?key={key}&targetDt=20181230&weekGb=0'\n",
    "# URL = f'http://www.kobis.or.kr/kobisopenapi/webservice/rest/boxoffice/searchWeeklyBoxOfficeList.json?key={key}&targetDt=20181223&weekGb=0'\n",
    "# URL = f'http://www.kobis.or.kr/kobisopenapi/webservice/rest/boxoffice/searchWeeklyBoxOfficeList.json?key={key}&targetDt=20181216&weekGb=0'\n",
    "# URL = f'http://www.kobis.or.kr/kobisopenapi/webservice/rest/boxoffice/searchWeeklyBoxOfficeList.json?key={key}&targetDt=20181209&weekGb=0'\n",
    "# URL = f'http://www.kobis.or.kr/kobisopenapi/webservice/rest/boxoffice/searchWeeklyBoxOfficeList.json?key={key}&targetDt=20181202&weekGb=0'\n",
    "# URL = f'http://www.kobis.or.kr/kobisopenapi/webservice/rest/boxoffice/searchWeeklyBoxOfficeList.json?key={key}&targetDt=20181125&weekGb=0'\n",
    "# URL = f'http://www.kobis.or.kr/kobisopenapi/webservice/rest/boxoffice/searchWeeklyBoxOfficeList.json?key={key}&targetDt=20181118&weekGb=0'\n",
    "# URL = f'http://www.kobis.or.kr/kobisopenapi/webservice/rest/boxoffice/searchWeeklyBoxOfficeList.json?key={key}&targetDt=20181111&weekGb=0'\n",
    "# http://www.kobis.or.kr/kobisopenapi/webservice/rest/boxoffice/searchWeeklyBoxOfficeList.json?key=10438e83037003ef6197b6b8b864d8db&targetDt=20181111&weekGb=0"
   ]
  }
 ],
 "metadata": {
  "kernelspec": {
   "display_name": "Python 3",
   "language": "python",
   "name": "python3"
  },
  "language_info": {
   "codemirror_mode": {
    "name": "ipython",
    "version": 3
   },
   "file_extension": ".py",
   "mimetype": "text/x-python",
   "name": "python",
   "nbconvert_exporter": "python",
   "pygments_lexer": "ipython3",
   "version": "3.6.7"
  }
 },
 "nbformat": 4,
 "nbformat_minor": 2
}
