{
 "cells": [
  {
   "cell_type": "markdown",
   "metadata": {},
   "source": [
    "# Many To Many Relation\n",
    "\n",
    "### Student\n",
    "\n",
    "| id(PK) | name      |\n",
    "| ------ | --------- |\n",
    "| INT    | CharField |\n",
    "\n",
    "### Lecture\n",
    "\n",
    "| id(PK)   | title     |\n",
    "| ----     | --------- |\n",
    "| INT      | CharField |\n",
    "\n",
    "### Enrollment\n",
    "\n",
    "| id(PK) | student_id(FK - Student) | lecture_id(FK - Lecture) |\n",
    "| ------ | ------------------------ | ------------------------ |\n",
    "| INT    | INT                      | INT                      |"
   ]
  },
  {
   "cell_type": "code",
   "execution_count": null,
   "metadata": {},
   "outputs": [],
   "source": [
    "# 모델\n",
    "Student"
   ]
  },
  {
   "cell_type": "code",
   "execution_count": 4,
   "metadata": {},
   "outputs": [
    {
     "data": {
      "text/plain": [
       "<django.db.models.manager.Manager at 0x234b10dae10>"
      ]
     },
     "execution_count": 4,
     "metadata": {},
     "output_type": "execute_result"
    }
   ],
   "source": [
    "# 매니저\n",
    "Student.objects"
   ]
  },
  {
   "cell_type": "code",
   "execution_count": 9,
   "metadata": {},
   "outputs": [
    {
     "data": {
      "text/plain": [
       "0"
      ]
     },
     "execution_count": 9,
     "metadata": {},
     "output_type": "execute_result"
    }
   ],
   "source": [
    "Student.objects.all().count()"
   ]
  },
  {
   "cell_type": "code",
   "execution_count": 7,
   "metadata": {},
   "outputs": [
    {
     "data": {
      "text/plain": [
       "mton.models.Lecture"
      ]
     },
     "execution_count": 7,
     "metadata": {},
     "output_type": "execute_result"
    }
   ],
   "source": [
    "Lecture"
   ]
  },
  {
   "cell_type": "code",
   "execution_count": 8,
   "metadata": {},
   "outputs": [
    {
     "data": {
      "text/plain": [
       "mton.models.Enrollment"
      ]
     },
     "execution_count": 8,
     "metadata": {},
     "output_type": "execute_result"
    }
   ],
   "source": [
    "Enrollment"
   ]
  },
  {
   "cell_type": "code",
   "execution_count": 10,
   "metadata": {},
   "outputs": [
    {
     "data": {
      "text/plain": [
       "(0, {})"
      ]
     },
     "execution_count": 10,
     "metadata": {},
     "output_type": "execute_result"
    }
   ],
   "source": [
    "# Student 매니저야 전체를 지워줘\n",
    "Student.objects.all().delete()"
   ]
  },
  {
   "cell_type": "code",
   "execution_count": 1,
   "metadata": {},
   "outputs": [
    {
     "data": {
      "text/plain": [
       "<QuerySet []>"
      ]
     },
     "execution_count": 1,
     "metadata": {},
     "output_type": "execute_result"
    }
   ],
   "source": [
    "Student.objects.all()"
   ]
  },
  {
   "cell_type": "code",
   "execution_count": 12,
   "metadata": {},
   "outputs": [
    {
     "data": {
      "text/plain": [
       "(0, {})"
      ]
     },
     "execution_count": 12,
     "metadata": {},
     "output_type": "execute_result"
    }
   ],
   "source": [
    "Lecture.objects.all().delete()"
   ]
  },
  {
   "cell_type": "code",
   "execution_count": 2,
   "metadata": {},
   "outputs": [
    {
     "data": {
      "text/plain": [
       "<QuerySet []>"
      ]
     },
     "execution_count": 2,
     "metadata": {},
     "output_type": "execute_result"
    }
   ],
   "source": [
    "Lecture.objects.all()"
   ]
  },
  {
   "cell_type": "code",
   "execution_count": 14,
   "metadata": {},
   "outputs": [
    {
     "data": {
      "text/plain": [
       "(0, {'mton.Enrollment': 0})"
      ]
     },
     "execution_count": 14,
     "metadata": {},
     "output_type": "execute_result"
    }
   ],
   "source": [
    "Enrollment.objects.all().delete()"
   ]
  },
  {
   "cell_type": "code",
   "execution_count": 3,
   "metadata": {},
   "outputs": [
    {
     "data": {
      "text/plain": [
       "<QuerySet []>"
      ]
     },
     "execution_count": 3,
     "metadata": {},
     "output_type": "execute_result"
    }
   ],
   "source": [
    "Enrollment.objects.all()"
   ]
  },
  {
   "cell_type": "code",
   "execution_count": 6,
   "metadata": {},
   "outputs": [
    {
     "data": {
      "text/plain": [
       "4"
      ]
     },
     "execution_count": 6,
     "metadata": {},
     "output_type": "execute_result"
    }
   ],
   "source": [
    "# Student.objects.create(name='곽동령')\n",
    "# Student.objects.create(name='이유림')\n",
    "# Student.objects.create(name='안도건')\n",
    "# Student.objects.create(name='지상현')\n",
    "Student.objects.count()"
   ]
  },
  {
   "cell_type": "code",
   "execution_count": 42,
   "metadata": {},
   "outputs": [
    {
     "data": {
      "text/plain": [
       "3"
      ]
     },
     "execution_count": 42,
     "metadata": {},
     "output_type": "execute_result"
    }
   ],
   "source": [
    "# Lecture.objects.create(title='알고리즘')\n",
    "# Lecture.objects.create(title='자바 스크립트')\n",
    "# Lecture.objects.create(title='css')\n",
    "Lecture.objects.count()"
   ]
  },
  {
   "cell_type": "code",
   "execution_count": 43,
   "metadata": {},
   "outputs": [
    {
     "data": {
      "text/plain": [
       "<Enrollment:  9: 곽동령: css>"
      ]
     },
     "execution_count": 43,
     "metadata": {},
     "output_type": "execute_result"
    }
   ],
   "source": [
    "# Enrollment.objects.create(student_id=1, lecture_id=1)\n",
    "# Enrollment.objects.create(student_id=1, lecture_id=2)\n",
    "# Enrollment.objects.create(student_id=1, lecture_id=3)"
   ]
  },
  {
   "cell_type": "code",
   "execution_count": 14,
   "metadata": {},
   "outputs": [
    {
     "data": {
      "text/plain": [
       "<Enrollment:  3: 이유림: 알고리즘>"
      ]
     },
     "execution_count": 14,
     "metadata": {},
     "output_type": "execute_result"
    }
   ],
   "source": [
    "# Enrollment.objects.create(student_id=Student., lecture_id=1)"
   ]
  },
  {
   "cell_type": "code",
   "execution_count": 22,
   "metadata": {},
   "outputs": [
    {
     "data": {
      "text/plain": [
       "<Enrollment:  4: 지상현: 자바 스크립트>"
      ]
     },
     "execution_count": 22,
     "metadata": {},
     "output_type": "execute_result"
    }
   ],
   "source": [
    "# Enrollment.objects.create(student_id=4, lecture_id=1)\n",
    "# Enrollment.objects.create(student_id=Student.objects.get(name='지상현').id, lecture_id=Lecture.objects.get(title='자바 스크립트').id)"
   ]
  },
  {
   "cell_type": "code",
   "execution_count": 44,
   "metadata": {},
   "outputs": [
    {
     "data": {
      "text/plain": [
       "<Enrollment:  10: 안도건: css>"
      ]
     },
     "execution_count": 44,
     "metadata": {},
     "output_type": "execute_result"
    }
   ],
   "source": [
    "# Enrollment.objects.create(student_id=3, lecture_id=1)\n",
    "# Enrollment.objects.create(student_id=3, lecture_id=2)\n",
    "# Enrollment.objects.create(student_id=3, lecture_id=3)"
   ]
  },
  {
   "cell_type": "code",
   "execution_count": 52,
   "metadata": {},
   "outputs": [
    {
     "data": {
      "text/plain": [
       "'css'"
      ]
     },
     "execution_count": 52,
     "metadata": {},
     "output_type": "execute_result"
    }
   ],
   "source": [
    "곽동령 = Student.objects.get(name='곽동령')\n",
    "\n",
    "# 매니저에게 불러올 때는 first, last는 바로 불러 올 수 있다\n",
    "수강신청1 = 곽동령.enrollment_set.first()\n",
    "수강신청2 = 곽동령.enrollment_set.last()\n",
    "\n",
    "# 수강신청1 = 곽동령.enrollment_set.all()[0]\n",
    "# 수강신청2 = 곽동령.enrollment_set.all()[1]\n",
    "\n",
    "수강신청1.lecture.title\n",
    "수강신청2.lecture.title"
   ]
  },
  {
   "cell_type": "code",
   "execution_count": 49,
   "metadata": {},
   "outputs": [
    {
     "name": "stdout",
     "output_type": "stream",
     "text": [
      "알고리즘\n",
      "자바 스크립트\n",
      "css\n",
      "-------------------------------\n",
      "알고리즘\n",
      "자바 스크립트\n",
      "css\n"
     ]
    }
   ],
   "source": [
    "# 수업 여러개 듣는 사람 1명을 student에 저장합니다\n",
    "# student의 수업들 제목을 출력하는 for문을 날려보세요\n",
    "\n",
    "student = Student.objects.get(name='안도건')\n",
    "lst = student.enrollment_set.all()\n",
    "\n",
    "for a in range(len(lst)):\n",
    "    print(lst[a].lecture.title)\n",
    "    \n",
    "print('-------------------------------')\n",
    "    \n",
    "for 수강신청 in student.enrollment_set.all():\n",
    "    print(수강신청.lecture.title)"
   ]
  },
  {
   "cell_type": "code",
   "execution_count": 51,
   "metadata": {},
   "outputs": [
    {
     "name": "stdout",
     "output_type": "stream",
     "text": [
      "자바 스크립트\n",
      "-------------------------------------\n",
      "자바 스크립트\n"
     ]
    }
   ],
   "source": [
    "# 그 student의 수업 제목이 5글자 넘는 수업의 제목을 출력하세요\n",
    "\n",
    "lst = student.enrollment_set.all()\n",
    "\n",
    "for 수업제목 in student.enrollment_set.all():\n",
    "    if len(수업제목.lecture.title) >= 5:\n",
    "        print(수업제목.lecture.title)\n",
    "        \n",
    "print('-------------------------------------')\n",
    "\n",
    "for a in range(len(lst)):\n",
    "    if len(lst[a].lecture.title) >= 5:\n",
    "        print(lst[a].lecture.title)        "
   ]
  },
  {
   "cell_type": "code",
   "execution_count": null,
   "metadata": {},
   "outputs": [],
   "source": [
    "# Lecture.students => 수업 듣는 모든 학생들\n",
    "# Student.lectures => 학생이 듣는 모든 수업들"
   ]
  },
  {
   "cell_type": "code",
   "execution_count": 10,
   "metadata": {},
   "outputs": [],
   "source": [
    "# Hotel.dummy(11)\n",
    "# Client.dummy(11)"
   ]
  },
  {
   "cell_type": "code",
   "execution_count": 11,
   "metadata": {},
   "outputs": [
    {
     "data": {
      "text/plain": [
       "<QuerySet [{'name': 'Allen Inc'}, {'name': 'Wright, Simpson and Wolf'}, {'name': 'Williams, Hall and Garcia'}, {'name': 'Williams, Terrell and Osborne'}, {'name': 'Phillips, Downs and Walsh'}, {'name': 'Oneal-Martin'}, {'name': 'Strong, Chapman and Estrada'}, {'name': 'Long, Lee and Crawford'}, {'name': 'Davis-White'}, {'name': 'Olson-Walker'}, {'name': 'Walker-Parrish'}]>"
      ]
     },
     "execution_count": 11,
     "metadata": {},
     "output_type": "execute_result"
    }
   ],
   "source": [
    "Hotel.objects.all().values('name')"
   ]
  },
  {
   "cell_type": "code",
   "execution_count": 12,
   "metadata": {},
   "outputs": [
    {
     "data": {
      "text/plain": [
       "<QuerySet [{'id': 2, 'name': 'Andre Jackson'}, {'id': 11, 'name': 'Donna Contreras'}, {'id': 7, 'name': 'Elizabeth Rice'}, {'id': 4, 'name': 'Jenny Marsh'}, {'id': 3, 'name': 'Karina Mays'}, {'id': 8, 'name': 'Kathy Miller'}, {'id': 1, 'name': 'Matthew Melton'}, {'id': 6, 'name': 'Robin Jackson'}, {'id': 9, 'name': 'Samantha Garrett'}, {'id': 10, 'name': 'Scott Smith'}, {'id': 5, 'name': 'Tara Kelly'}]>"
      ]
     },
     "execution_count": 12,
     "metadata": {},
     "output_type": "execute_result"
    }
   ],
   "source": [
    "Client.objects.all().values('id','name')"
   ]
  },
  {
   "cell_type": "code",
   "execution_count": 13,
   "metadata": {},
   "outputs": [
    {
     "data": {
      "text/plain": [
       "0"
      ]
     },
     "execution_count": 13,
     "metadata": {},
     "output_type": "execute_result"
    }
   ],
   "source": [
    "Client.objects.last().hotel_set.count()"
   ]
  },
  {
   "cell_type": "code",
   "execution_count": 1,
   "metadata": {},
   "outputs": [
    {
     "data": {
      "text/plain": [
       "<QuerySet [<Client: Client object (7)>]>"
      ]
     },
     "execution_count": 1,
     "metadata": {},
     "output_type": "execute_result"
    }
   ],
   "source": [
    "new_hotel = Hotel.objects.last()\n",
    "\n",
    "# Reservation.objects.create(hotel_id=1, client_id=2)\n",
    "\n",
    "# new_hotel.clients.add(Client.objects.last())\n",
    "new_hotel.clients.add(Client.objects.get(id=3), Client.objects.get(id=5), Client.objects.get(id=7))\n",
    "new_hotel.clients.all().filter(name__contains='h')"
   ]
  },
  {
   "cell_type": "code",
   "execution_count": 4,
   "metadata": {},
   "outputs": [],
   "source": [
    "client = Client.objects.get(id=3)\n",
    "\n",
    "client.hotels.add(\n",
    "Hotel.objects.get(id=2),\n",
    "Hotel.objects.get(id=4),\n",
    "Hotel.objects.get(id=6))"
   ]
  },
  {
   "cell_type": "code",
   "execution_count": 5,
   "metadata": {},
   "outputs": [
    {
     "data": {
      "text/plain": [
       "<QuerySet [{'name': 'Walker-Parrish'}, {'name': 'Wright, Simpson and Wolf'}, {'name': 'Williams, Terrell and Osborne'}, {'name': 'Oneal-Martin'}]>"
      ]
     },
     "execution_count": 5,
     "metadata": {},
     "output_type": "execute_result"
    }
   ],
   "source": [
    "client.hotels.all().values('name')"
   ]
  },
  {
   "cell_type": "code",
   "execution_count": null,
   "metadata": {},
   "outputs": [],
   "source": []
  }
 ],
 "metadata": {
  "kernelspec": {
   "display_name": "Django Shell-Plus",
   "language": "python",
   "name": "django_extensions"
  },
  "language_info": {
   "codemirror_mode": {
    "name": "ipython",
    "version": 3
   },
   "file_extension": ".py",
   "mimetype": "text/x-python",
   "name": "python",
   "nbconvert_exporter": "python",
   "pygments_lexer": "ipython3",
   "version": "3.7.3"
  }
 },
 "nbformat": 4,
 "nbformat_minor": 2
}
