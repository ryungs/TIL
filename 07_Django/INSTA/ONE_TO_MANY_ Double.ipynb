{
 "cells": [
  {
   "cell_type": "markdown",
   "metadata": {},
   "source": [
    "# One To Many model - 2\n",
    "\n",
    "### Writer\n",
    "\n",
    "| id(PK)     | name      |\n",
    "| -------    | --------- |\n",
    "| INT        | CharField |\n",
    "\n",
    "\n",
    "\n",
    "### Book\n",
    "\n",
    "| id(PK)      | author_id(FK - Writer)| title     | description |\n",
    "| -------     | ---------------       | --------- | ----------- |\n",
    "| INT         | INT           | CharField | TextField   |\n",
    "\n",
    "\n",
    "\n",
    "### Chapter\n",
    "\n",
    "| id(PK)       | book_id(FK - Book)        | title     | description |\n",
    "| -------      | -------------             | --------- | ----------- |\n",
    "| INT          |INT                        | CharField | TextField   |"
   ]
  },
  {
   "cell_type": "code",
   "execution_count": 1,
   "metadata": {},
   "outputs": [
    {
     "data": {
      "text/plain": [
       "<Writer: Writer object (2)>"
      ]
     },
     "execution_count": 1,
     "metadata": {},
     "output_type": "execute_result"
    }
   ],
   "source": [
    "# Writer 객체 생성\n",
    "Writer.objects.create(name='이선 브라운')"
   ]
  },
  {
   "cell_type": "code",
   "execution_count": 2,
   "metadata": {},
   "outputs": [
    {
     "data": {
      "text/plain": [
       "<Book: Book object (3)>"
      ]
     },
     "execution_count": 2,
     "metadata": {},
     "output_type": "execute_result"
    }
   ],
   "source": [
    "# Book 객체 생성\n",
    "Book.objects.create(\n",
    "    author=Writer.objects.get(name='이선 브라운'),\n",
    "    title='러닝 자바스크립트', \n",
    "    description='ES6로 제대로 입문하는 모던 자바스크립트 웹 개발'\n",
    "    )"
   ]
  },
  {
   "cell_type": "code",
   "execution_count": 3,
   "metadata": {},
   "outputs": [
    {
     "data": {
      "text/plain": [
       "<Book: Book object (4)>"
      ]
     },
     "execution_count": 3,
     "metadata": {},
     "output_type": "execute_result"
    }
   ],
   "source": [
    "# Book 객체 생성\n",
    "Book.objects.create(\n",
    "    author=Writer.objects.get(name='이선 브라운'),\n",
    "    title='러닝 파이썬', \n",
    "    description='Python37로 제대로 입문하는 Python 개발'\n",
    "    )"
   ]
  },
  {
   "cell_type": "code",
   "execution_count": 4,
   "metadata": {},
   "outputs": [
    {
     "data": {
      "text/plain": [
       "<Chapter: Chapter object (1)>"
      ]
     },
     "execution_count": 4,
     "metadata": {},
     "output_type": "execute_result"
    }
   ],
   "source": [
    "# Chapter 객체 생성\n",
    "Chapter.objects.create(\n",
    "    book=Book.objects.get(id=3),\n",
    "    title='First App',\n",
    "    description='시작은 브라우저에서'\n",
    ")\n",
    "\n",
    "Chapter.objects.create(\n",
    "    book=Book.objects.get(id=3),\n",
    "    title='개발 도구',\n",
    "    description='트랜스 컴파일러'\n",
    ")\n",
    "\n",
    "Chapter.objects.create(\n",
    "    book=Book.objects.get(id=4),\n",
    "    title='Python 기초 문법',\n",
    "    description='변수, 문자열, 숫자, 참/거짓'\n",
    ")\n",
    "\n",
    "Chapter.objects.create(\n",
    "    book=Book.objects.get(id=4),\n",
    "    title='Python 자료 구조',\n",
    "    description='리스트, 딕셔너리, 튜플, 세트'\n",
    ")"
   ]
  },
  {
   "cell_type": "code",
   "execution_count": 1,
   "metadata": {
    "scrolled": true
   },
   "outputs": [
    {
     "data": {
      "text/plain": [
       "<QuerySet [<Book: 3: 2: 이선 브라운: 러닝 자바스크립트>, <Book: 4: 2: 이선 브라운: 러닝 파이썬>]>"
      ]
     },
     "execution_count": 1,
     "metadata": {},
     "output_type": "execute_result"
    }
   ],
   "source": [
    "# 파이썬 배우고 싶다... 딕셔너리를 찾아볼까?\n",
    "\n",
    "\n",
    "# 챕터 중 '딕셔너리' 라는 챕터 Description이 있는 - 책의 - 저자가 - 쓴 모든 책들\n",
    "Chapter.objects.filter(description__contains='딕셔너리')[0].book.author.book_set.all()"
   ]
  },
  {
   "cell_type": "code",
   "execution_count": 2,
   "metadata": {},
   "outputs": [
    {
     "name": "stdout",
     "output_type": "stream",
     "text": [
      "3: 2: 이선 브라운: 러닝 자바스크립트\n",
      "4: 2: 이선 브라운: 러닝 파이썬\n"
     ]
    }
   ],
   "source": [
    "books = Chapter.objects.filter(description__contains='딕셔너리')[0].book.author.book_set.all()\n",
    "for a in books:\n",
    "    print(a)"
   ]
  },
  {
   "cell_type": "code",
   "execution_count": 3,
   "metadata": {},
   "outputs": [
    {
     "name": "stdout",
     "output_type": "stream",
     "text": [
      "SELECT \"onetomany_book\".\"id\", \"onetomany_book\".\"created\", \"onetomany_book\".\"modified\", \"onetomany_book\".\"author_id\", \"onetomany_book\".\"title\", \"onetomany_book\".\"description\" FROM \"onetomany_book\" WHERE \"onetomany_book\".\"author_id\" = 2\n"
     ]
    }
   ],
   "source": [
    "ORMquery = Chapter.objects.filter(description__contains='딕셔너리')[0].book.author.book_set.all()\n",
    "print(ORMquery.query)"
   ]
  },
  {
   "cell_type": "code",
   "execution_count": 4,
   "metadata": {},
   "outputs": [
    {
     "data": {
      "text/plain": [
       "<QuerySet [<Book: 3: 2: 이선 브라운: 러닝 자바스크립트>, <Book: 4: 2: 이선 브라운: 러닝 파이썬>]>"
      ]
     },
     "execution_count": 4,
     "metadata": {},
     "output_type": "execute_result"
    }
   ],
   "source": [
    "# * 책들 중, DB에 2019년에 등록된 모든 책들 중에서 OFFSET2, LIMIT3\n",
    "Book.objects.filter(created__year=2019)[2:2+3]"
   ]
  },
  {
   "cell_type": "code",
   "execution_count": 5,
   "metadata": {},
   "outputs": [
    {
     "data": {
      "text/plain": [
       "<QuerySet [<Book: 3: 2: 이선 브라운: 러닝 자바스크립트>, <Book: 4: 2: 이선 브라운: 러닝 파이썬>]>"
      ]
     },
     "execution_count": 5,
     "metadata": {},
     "output_type": "execute_result"
    }
   ],
   "source": [
    "# ** 책들 중, DB에 2018년 이후에 등록된 모든 책들 중에서 OFFSET2, LIMIT3\n",
    "Book.objects.filter(created__year__gt=2018)[2:2+3]"
   ]
  },
  {
   "cell_type": "code",
   "execution_count": 6,
   "metadata": {},
   "outputs": [
    {
     "name": "stdout",
     "output_type": "stream",
     "text": [
      "SELECT \"onetomany_book\".\"id\", \"onetomany_book\".\"created\", \"onetomany_book\".\"modified\", \"onetomany_book\".\"author_id\", \"onetomany_book\".\"title\", \"onetomany_book\".\"description\" FROM \"onetomany_book\" WHERE \"onetomany_book\".\"created\" > 2018-12-31 23:59:59.999999  LIMIT 3 OFFSET 2\n"
     ]
    }
   ],
   "source": [
    "print(Book.objects.filter(created__year__gt=2018)[2:2+3].query)"
   ]
  },
  {
   "cell_type": "code",
   "execution_count": 7,
   "metadata": {},
   "outputs": [
    {
     "data": {
      "text/plain": [
       "<QuerySet [<Book: 1: 1: 박경리: 토지>, <Book: 2: 1: 박경리: 불신시대>, <Book: 3: 2: 이선 브라운: 러닝 자바스크립트>, <Book: 4: 2: 이선 브라운: 러닝 파이썬>]>"
      ]
     },
     "execution_count": 7,
     "metadata": {},
     "output_type": "execute_result"
    }
   ],
   "source": [
    "Book.objects.all()"
   ]
  },
  {
   "cell_type": "code",
   "execution_count": 8,
   "metadata": {},
   "outputs": [
    {
     "name": "stdout",
     "output_type": "stream",
     "text": [
      "SELECT \"onetomany_book\".\"id\", \"onetomany_book\".\"created\", \"onetomany_book\".\"modified\", \"onetomany_book\".\"author_id\", \"onetomany_book\".\"title\", \"onetomany_book\".\"description\" FROM \"onetomany_book\"  LIMIT 2 OFFSET 1\n"
     ]
    }
   ],
   "source": [
    "print(Book.objects.all()[1:3].query)"
   ]
  },
  {
   "cell_type": "code",
   "execution_count": null,
   "metadata": {},
   "outputs": [],
   "source": []
  }
 ],
 "metadata": {
  "kernelspec": {
   "display_name": "Django Shell-Plus",
   "language": "python",
   "name": "django_extensions"
  },
  "language_info": {
   "codemirror_mode": {
    "name": "ipython",
    "version": 3
   },
   "file_extension": ".py",
   "mimetype": "text/x-python",
   "name": "python",
   "nbconvert_exporter": "python",
   "pygments_lexer": "ipython3",
   "version": "3.7.3"
  }
 },
 "nbformat": 4,
 "nbformat_minor": 2
}
